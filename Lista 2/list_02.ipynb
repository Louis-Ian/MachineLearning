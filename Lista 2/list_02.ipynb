{
 "cells": [
  {
   "attachments": {},
   "cell_type": "markdown",
   "metadata": {},
   "source": [
    "# Lista 2"
   ]
  },
  {
   "attachments": {},
   "cell_type": "markdown",
   "metadata": {},
   "source": [
    "## `Questão 1`\n",
    "Considere o conjunto de dados disponível em **`breastcancer.csv`**, organizado em 31 colunas, sendo as 30 primeiras colunas os atributos e a última coluna a saída. Os 30 atributos coletados de exames médicos são usados no diagnóstico do câncer de mama, sendo 1 a classe positiva e 0 a classe negativa. Maiores detalhes sobre os dados podem ser conferidos em https://scikit-learn.org/stable/datasets/toy_dataset.html#breast-cancer-dataset.\n",
    "\n",
    "A) Considerando uma validação cruzada em 10 folds, avalie modelos de classicação binária nos dados em questão. Para tanto, use as abordagens\n",
    "abaixo:  \n",
    "\n",
    "- **Regressão logística** (treinado com GD ou SGD);\n",
    "- **Análise do discriminante Gaussiano**;\n",
    "- **Naive Bayes Gaussiano**.\n",
    "  \n",
    "B) Para cada modelo criado, reporte valor médio e desvio padrão da **acurácia global** e da **acurácia por classe**\n"
   ]
  },
  {
   "cell_type": "code",
   "execution_count": 1,
   "metadata": {},
   "outputs": [],
   "source": [
    "import numpy as np\n",
    "import matplotlib as mpl\n",
    "import matplotlib.pyplot as plt\n",
    "from typing import Tuple"
   ]
  },
  {
   "cell_type": "code",
   "execution_count": 2,
   "metadata": {},
   "outputs": [
    {
     "data": {
      "text/plain": [
       "(569, 31)"
      ]
     },
     "execution_count": 2,
     "metadata": {},
     "output_type": "execute_result"
    }
   ],
   "source": [
    "breastcancer_data = np.loadtxt('./breastcancer.csv', delimiter=',')\n",
    "breastcancer_data.shape"
   ]
  },
  {
   "cell_type": "code",
   "execution_count": 4,
   "metadata": {},
   "outputs": [],
   "source": [
    "def add_independent_term_column(x: np.ndarray):\n",
    "    return np.hstack((np.ones((x.shape[0], 1)), x))"
   ]
  },
  {
   "cell_type": "code",
   "execution_count": 6,
   "metadata": {},
   "outputs": [
    {
     "data": {
      "text/plain": [
       "(569, 31)"
      ]
     },
     "execution_count": 6,
     "metadata": {},
     "output_type": "execute_result"
    }
   ],
   "source": [
    "x_breastcancer_data = breastcancer_data[:, :-1]\n",
    "x_breastcancer_data = add_independent_term_column(x_breastcancer_data)\n",
    "x_breastcancer_data.shape"
   ]
  },
  {
   "cell_type": "code",
   "execution_count": 19,
   "metadata": {},
   "outputs": [
    {
     "data": {
      "text/plain": [
       "(569, 1)"
      ]
     },
     "execution_count": 19,
     "metadata": {},
     "output_type": "execute_result"
    }
   ],
   "source": [
    "y_breastcancer_data = breastcancer_data[:, [-1]]\n",
    "y_breastcancer_data.shape"
   ]
  },
  {
   "attachments": {},
   "cell_type": "markdown",
   "metadata": {},
   "source": [
    "### `GD - Gradiente Descendente`"
   ]
  },
  {
   "cell_type": "code",
   "execution_count": 32,
   "metadata": {},
   "outputs": [],
   "source": [
    "def mse_gd(x: np.ndarray, w: np.ndarray, y: np.ndarray):\n",
    "    pred = x @ w\n",
    "    error = y - pred\n",
    "    mse = (error * error).mean()\n",
    "\n",
    "    return mse"
   ]
  },
  {
   "cell_type": "code",
   "execution_count": 53,
   "metadata": {},
   "outputs": [],
   "source": [
    "def log_func(value: float):\n",
    "    return 1 / (1 + np.exp(-value))"
   ]
  },
  {
   "cell_type": "code",
   "execution_count": 68,
   "metadata": {},
   "outputs": [],
   "source": [
    "# Gradiente descendente\n",
    "def gd(x: np.ndarray, y: np.ndarray, alpha: float = 0.001, max_iterations: int = 100000, stopping_error: float = 1e-10):\n",
    "    # Importando features e saídas\n",
    "    X = x.copy()\n",
    "    Y = y.copy()\n",
    "\n",
    "    # Inicializando os pesos\n",
    "    w_gd = np.zeros((X.shape[1], 1))\n",
    "\n",
    "    errors_list_gd = np.empty((max_iterations, X.shape[0]))\n",
    "    mse_list_gd = np.empty((max_iterations, 1))\n",
    "\n",
    "    # Gradiente descendente\n",
    "    for iter in range(max_iterations):\n",
    "\n",
    "        # Calculando o erro\n",
    "        pred_gd = X @ w_gd\n",
    "        error_gd = Y - pred_gd\n",
    "        \n",
    "        w_gd[0] = w_gd[0] + alpha * error_gd.mean(axis = 0)\n",
    "        w_gd[1:] = w_gd[1:] + alpha * (X[:,[1]].T @ error_gd) / X.shape[0]\n",
    "\n",
    "        # Calculando o MSE e registrando o MSE e os Erros\n",
    "        errors_list_gd[[iter], :] = error_gd.reshape(1, -1)\n",
    "        mse_list_gd[iter] = mse_gd(X, w_gd, Y)\n",
    "\n",
    "        # Parar caso o erro esteja abaixo do mínimo aceitável\n",
    "        # if(mse_list_gd[iter] < stopping_error):\n",
    "        #     print(f'GD encerrado precocemente pois os erros estão baixos o suficiente')\n",
    "        #     break\n",
    "    \n",
    "    return w_gd, mse_gd(X, w_gd, y), errors_list_gd, mse_list_gd"
   ]
  },
  {
   "cell_type": "code",
   "execution_count": 72,
   "metadata": {},
   "outputs": [],
   "source": [
    "# Gradiente descendente\n",
    "def gd_log(x: np.ndarray, y: np.ndarray, alpha: float = 0.001, max_iterations: int = 100000, stopping_error: float = 1e-10):\n",
    "    # Importando features e saídas\n",
    "    X = x.copy()\n",
    "    Y = y.copy()\n",
    "\n",
    "    # Inicializando os pesos\n",
    "    w_gd = np.zeros((X.shape[1], 1))\n",
    "\n",
    "    errors_list_gd = np.empty((max_iterations, X.shape[0]))\n",
    "    mse_list_gd = np.empty((max_iterations, 1))\n",
    "\n",
    "    # Gradiente descendente\n",
    "    for iter in range(max_iterations):\n",
    "\n",
    "        # Calculando o erro\n",
    "        pred_gd = log_func(X @ w_gd)\n",
    "        error_gd = Y - pred_gd\n",
    "        \n",
    "        # w_gd[0] = w_gd[0] + alpha * error_gd.mean(axis = 0)\n",
    "        # w_gd[1:] = w_gd[1:] + alpha * (X[:,1:].T @ error_gd) / X.shape[0]\n",
    "        w_gd = w_gd + alpha * (X.T @ error_gd) / X.shape[0]\n",
    "\n",
    "        # Calculando o MSE e registrando o MSE e os Erros\n",
    "        errors_list_gd[[iter], :] = error_gd.reshape(1, -1)\n",
    "        mse_list_gd[iter] = mse_gd(X, w_gd, Y)\n",
    "\n",
    "        # Parar caso o erro esteja abaixo do mínimo aceitável\n",
    "        # if(mse_list_gd[iter] < stopping_error):\n",
    "        #     print(f'GD encerrado precocemente pois os erros estão baixos o suficiente')\n",
    "        #     break\n",
    "    \n",
    "    return w_gd, mse_gd(X, w_gd, y), errors_list_gd, mse_list_gd"
   ]
  },
  {
   "cell_type": "code",
   "execution_count": 76,
   "metadata": {},
   "outputs": [
    {
     "name": "stderr",
     "output_type": "stream",
     "text": [
      "C:\\Users\\louis\\AppData\\Local\\Temp\\ipykernel_13904\\745459150.py:2: RuntimeWarning: overflow encountered in exp\n",
      "  return 1 / (1 + np.exp(-value))\n"
     ]
    }
   ],
   "source": [
    "w_breastcancer_data_gd, mse_breastcancer_data_gd, errors_list_gd, mse_list_gd = gd_log(x_breastcancer_data, y_breastcancer_data, alpha=0.01, max_iterations=1000)"
   ]
  },
  {
   "attachments": {},
   "cell_type": "markdown",
   "metadata": {},
   "source": [
    "#### Parâmetros do modelo e **MSE (Erro Quadrático Médio)** final obitidos pelo algoritmo"
   ]
  },
  {
   "cell_type": "code",
   "execution_count": 77,
   "metadata": {},
   "outputs": [
    {
     "data": {
      "text/plain": [
       "array([[-3.94697523e-01],\n",
       "       [-3.00562586e+00],\n",
       "       [-4.14765311e+00],\n",
       "       [-1.74921033e+01],\n",
       "       [-6.82551604e+00],\n",
       "       [-2.79514274e-02],\n",
       "       [ 1.15541778e-02],\n",
       "       [ 5.39050119e-02],\n",
       "       [ 2.29701823e-02],\n",
       "       [-5.30821179e-02],\n",
       "       [-2.21682064e-02],\n",
       "       [-9.94393869e-03],\n",
       "       [-2.71939629e-01],\n",
       "       [ 9.55928003e-02],\n",
       "       [ 7.78853526e+00],\n",
       "       [-1.47343103e-03],\n",
       "       [ 3.62500933e-03],\n",
       "       [ 6.83345179e-03],\n",
       "       [ 8.59361588e-04],\n",
       "       [-4.59109362e-03],\n",
       "       [-3.11276655e-04],\n",
       "       [-3.18682672e+00],\n",
       "       [-5.25532445e+00],\n",
       "       [-1.77715282e+01],\n",
       "       [ 1.01420085e+01],\n",
       "       [-3.50279062e-02],\n",
       "       [ 5.17793184e-02],\n",
       "       [ 1.11121028e-01],\n",
       "       [ 2.54979215e-02],\n",
       "       [-7.28479524e-02],\n",
       "       [-2.07330892e-02]])"
      ]
     },
     "execution_count": 77,
     "metadata": {},
     "output_type": "execute_result"
    }
   ],
   "source": [
    "w_breastcancer_data_gd"
   ]
  },
  {
   "cell_type": "code",
   "execution_count": 78,
   "metadata": {},
   "outputs": [
    {
     "data": {
      "text/plain": [
       "9134551.737556431"
      ]
     },
     "execution_count": 78,
     "metadata": {},
     "output_type": "execute_result"
    }
   ],
   "source": [
    "mse_breastcancer_data_gd"
   ]
  },
  {
   "attachments": {},
   "cell_type": "markdown",
   "metadata": {},
   "source": [
    "#### Plote da curva de aprendizagem"
   ]
  },
  {
   "cell_type": "code",
   "execution_count": 17,
   "metadata": {},
   "outputs": [
    {
     "data": {
      "image/png": "[encoded data removed]",
      "text/plain": [
       "<Figure size 640x480 with 1 Axes>"
      ]
     },
     "metadata": {},
     "output_type": "display_data"
    }
   ],
   "source": [
    "fig, ax = plt.subplots()\n",
    "\n",
    "ax.set_title(\"Gradient Descendent MSE progression\")\n",
    "ax.set_ylabel(\"MSE\")\n",
    "ax.set_xlabel(\"Iteration\")\n",
    "\n",
    "ax.plot(np.arange(mse_list_gd.shape[0]), mse_list_gd, color='black', linewidth='0.8')\n",
    "ax.grid(True)\n",
    "\n",
    "plt.show()"
   ]
  },
  {
   "attachments": {},
   "cell_type": "markdown",
   "metadata": {},
   "source": [
    "### `SGD - Gradiente Descendente Estocástico`"
   ]
  },
  {
   "cell_type": "code",
   "execution_count": 19,
   "metadata": {},
   "outputs": [],
   "source": [
    "# Gradiente descendente estocástico\n",
    "def sgd(x: np.ndarray, y: np.ndarray, alpha: float = 0.001, max_epochs: int = 100, stopping_error: float = 1e-10):\n",
    "    # Importando features e saídas\n",
    "    X = x.copy()\n",
    "    Y = y.copy()\n",
    "\n",
    "    # Inicializando os pesos\n",
    "    w_sgd = np.zeros((X.shape[1], 1))\n",
    "\n",
    "    errors_list_sgd = np.empty((max_epochs * X.shape[0], X.shape[0]))\n",
    "    mse_list_sgd = np.empty((max_epochs * X.shape[0], 1))\n",
    "\n",
    "    # Gradiente descendente estocástico\n",
    "    for epoch in range(max_epochs):\n",
    "        # Permutando dados (entradas e saídas)\n",
    "        XY = np.hstack((X, Y))\n",
    "        XY = np.random.permutation(XY)\n",
    "        X = XY[:, :-1]\n",
    "        Y = XY[:, [-1]]\n",
    "\n",
    "        for entry in range(X.shape[0]):\n",
    "            # Calculando o erro\n",
    "            pred_sgd = X[entry] @ w_sgd\n",
    "            error_sgd = Y[entry] - pred_sgd\n",
    "            \n",
    "            w_sgd[0] = w_sgd[0] + alpha * error_sgd\n",
    "            w_sgd[1:] = w_sgd[1:] + alpha * (X[entry,[1]].T * error_sgd)\n",
    "\n",
    "            # Calculando o MSE e registrando o MSE e os Erros\n",
    "            errors_list_sgd[[epoch * X.shape[0] + entry], :] = error_sgd.reshape(1, -1)\n",
    "            mse_list_sgd[epoch * X.shape[0] + entry] = mse_gd(X, w_sgd, Y)\n",
    "\n",
    "            # Parar caso o erro esteja abaixo do mínimo aceitável\n",
    "            # if(mse < stopping_error):\n",
    "            #     print(f'SGD encerrado precocemente pois os erros estão baixos o suficiente')\n",
    "            #     break\n",
    "    \n",
    "    return w_sgd, mse_gd(X, w_sgd, y), errors_list_sgd, mse_list_sgd"
   ]
  },
  {
   "cell_type": "code",
   "execution_count": 20,
   "metadata": {},
   "outputs": [],
   "source": [
    "w_breastcancer_data_sgd, mse_breastcancer_data_sgd, errors_list_sgd, mse_list_sgd = sgd(x_breastcancer_data, y_breastcancer_data, alpha= 0.01, max_epochs=60)"
   ]
  },
  {
   "attachments": {},
   "cell_type": "markdown",
   "metadata": {},
   "source": [
    "#### Parâmetros do modelo e **MSE (Erro Quadrático Médio)** final obitidos pelo algoritmo"
   ]
  },
  {
   "cell_type": "code",
   "execution_count": 21,
   "metadata": {},
   "outputs": [
    {
     "data": {
      "text/plain": [
       "array([[0.06673671],\n",
       "       [1.57262774]])"
      ]
     },
     "execution_count": 21,
     "metadata": {},
     "output_type": "execute_result"
    }
   ],
   "source": [
    "w_breastcancer_data_sgd"
   ]
  },
  {
   "cell_type": "code",
   "execution_count": 22,
   "metadata": {},
   "outputs": [
    {
     "data": {
      "text/plain": [
       "2.4159190202715966"
      ]
     },
     "execution_count": 22,
     "metadata": {},
     "output_type": "execute_result"
    }
   ],
   "source": [
    "mse_breastcancer_data_sgd"
   ]
  },
  {
   "attachments": {},
   "cell_type": "markdown",
   "metadata": {},
   "source": [
    "#### Plote da reta resultante sobre os dados"
   ]
  },
  {
   "cell_type": "code",
   "execution_count": 23,
   "metadata": {},
   "outputs": [
    {
     "data": {
      "image/png": "[encoded data removed]",
      "text/plain": [
       "<Figure size 640x480 with 1 Axes>"
      ]
     },
     "metadata": {},
     "output_type": "display_data"
    }
   ],
   "source": [
    "fig, ax = plt.subplots()\n",
    "\n",
    "x_range_sgd = np.linspace(x_breastcancer_data.min(), x_breastcancer_data.max())\n",
    "y_range_sgd = w_breastcancer_data_sgd[0] + w_breastcancer_data_sgd[1] * x_range_sgd\n",
    "\n",
    "ax.set_title(\"Stocastic Gradient Descent Regression\")\n",
    "ax.set_ylabel(\"Y-Axis\")\n",
    "ax.set_xlabel(\"X-Axis\")\n",
    "\n",
    "ax.scatter(x_breastcancer_data[:, 1:], y_breastcancer_data, color='blue', marker='o', linestyle='')\n",
    "ax.plot(x_range_sgd, y_range_sgd, color='black')\n",
    "\n",
    "for i in range(len(x_breastcancer_data)):\n",
    "    ax.plot([x_breastcancer_data[:, 1:][i], x_breastcancer_data[:, 1:][i]], [y_breastcancer_data[i], w_breastcancer_data_gd[0] + w_breastcancer_data_sgd[1] * x_breastcancer_data[:, 1:][i]], linewidth='0.3')\n",
    "\n",
    "plt.show()"
   ]
  },
  {
   "attachments": {},
   "cell_type": "markdown",
   "metadata": {},
   "source": [
    "#### Plote da curva de aprendizagem"
   ]
  },
  {
   "cell_type": "code",
   "execution_count": 24,
   "metadata": {},
   "outputs": [
    {
     "data": {
      "image/png": "[encoded data removed]",
      "text/plain": [
       "<Figure size 640x480 with 1 Axes>"
      ]
     },
     "metadata": {},
     "output_type": "display_data"
    }
   ],
   "source": [
    "fig, ax = plt.subplots()\n",
    "\n",
    "ax.set_title(\"Stocastic Gradient Descent MSE progression\")\n",
    "ax.set_ylabel(\"MSE\")\n",
    "ax.set_xlabel(\"Iteration\")\n",
    "\n",
    "ax.plot(np.arange(mse_list_sgd.shape[0]), mse_list_sgd, color='black', linewidth='0.8')\n",
    "ax.grid(True)\n",
    "\n",
    "plt.show()"
   ]
  },
  {
   "attachments": {},
   "cell_type": "markdown",
   "metadata": {},
   "source": [
    "## `Questão 2`\n",
    "Considere o conjunto de dados disponível em california.csv, organizado em 9 colunas, sendo as 8 primeiras colunas os atributos e a última coluna a saída.  \n",
    "Os 8 atributos são usados na predição da mediana de preços de casas em distritos da Califórnia na década de 1990."
   ]
  },
  {
   "cell_type": "code",
   "execution_count": 25,
   "metadata": {},
   "outputs": [
    {
     "data": {
      "text/plain": [
       "(1000, 9)"
      ]
     },
     "execution_count": 25,
     "metadata": {},
     "output_type": "execute_result"
    }
   ],
   "source": [
    "california_data = np.loadtxt('./california.csv', delimiter=',')\n",
    "california_data.shape"
   ]
  },
  {
   "cell_type": "code",
   "execution_count": 26,
   "metadata": {},
   "outputs": [
    {
     "data": {
      "text/plain": [
       "(1000, 8)"
      ]
     },
     "execution_count": 26,
     "metadata": {},
     "output_type": "execute_result"
    }
   ],
   "source": [
    "x_california_data = california_data[:, :-1]\n",
    "x_california_data.shape"
   ]
  },
  {
   "cell_type": "code",
   "execution_count": 27,
   "metadata": {},
   "outputs": [
    {
     "data": {
      "text/plain": [
       "(1000, 1)"
      ]
     },
     "execution_count": 27,
     "metadata": {},
     "output_type": "execute_result"
    }
   ],
   "source": [
    "y_california_data = california_data[:, [-1]]\n",
    "y_california_data.shape"
   ]
  },
  {
   "cell_type": "code",
   "execution_count": 28,
   "metadata": {},
   "outputs": [],
   "source": [
    "def normalize_dataset_minmax(x: np.ndarray, y: np.ndarray):\n",
    "    x_columns_max = x.max(axis=0)\n",
    "    ymax = y.max()\n",
    "    \n",
    "    x_columns_min = x.min(axis=0)\n",
    "    ymin = y.min()\n",
    "\n",
    "    x = (x - x_columns_min) / (x_columns_max - x_columns_min)\n",
    "    y = (y - ymin) / (ymax - ymin)\n",
    "\n",
    "    # Valores necessários para a desnormalização\n",
    "    xscale_tuple = (x_columns_max - x_columns_min, x_columns_min)\n",
    "    yscale_tuple = (ymax - ymin, ymin)\n",
    "    \n",
    "    return x, y, xscale_tuple, yscale_tuple\n",
    "\n",
    "def denormalize_dataset_minmax(x: np.ndarray, y: np.ndarray, xscale: Tuple[np.ndarray, np.ndarray], yscale: Tuple[float, float]):\n",
    "    y = y * yscale[0] + yscale[1]\n",
    "    x = x * xscale[0] + xscale[1]\n",
    "\n",
    "    return x, y\n",
    "\n",
    "def normalize_dataset_zscore(x: np.ndarray, y: np.ndarray):\n",
    "    return \n",
    "\n",
    "def denormalize_dataset_zscore(x: np.ndarray, y: np.ndarray, scale: float):\n",
    "    return "
   ]
  },
  {
   "cell_type": "code",
   "execution_count": 29,
   "metadata": {},
   "outputs": [],
   "source": [
    "def polify(x: np.ndarray, degrees: int):\n",
    "    X = x.copy()\n",
    "\n",
    "    for degree in range(2, degrees + 1):\n",
    "        X_next_degree = x ** (degree)\n",
    "        X = np.hstack((X, X_next_degree))\n",
    "\n",
    "    return X"
   ]
  },
  {
   "cell_type": "code",
   "execution_count": 30,
   "metadata": {},
   "outputs": [],
   "source": [
    "def split_train_test(x: np.ndarray, y: np.ndarray, split: float):\n",
    "    # Checar valor do split\n",
    "    if not (0.0 <= split <= 1.0):\n",
    "        raise ValueError(\"O valor de split deve ser de 0 à 1\")\n",
    "    \n",
    "    # Permuta os dados\n",
    "    xy = np.random.permutation(np.hstack((x, y)))\n",
    "\n",
    "    # Divide os dados entre treino e teste\n",
    "    split_index = int(np.rint(xy.shape[0] * split))\n",
    "    train = xy[:split_index, :]\n",
    "    test = xy[split_index:, :]\n",
    "\n",
    "    return train, test"
   ]
  },
  {
   "cell_type": "code",
   "execution_count": 31,
   "metadata": {},
   "outputs": [],
   "source": [
    "def kfold_crossvalidation():\n",
    "    return\n",
    "\n",
    "def loo_crossvalidation():\n",
    "    return kfold_crossvalidation()"
   ]
  },
  {
   "cell_type": "code",
   "execution_count": 32,
   "metadata": {},
   "outputs": [
    {
     "name": "stdout",
     "output_type": "stream",
     "text": [
      "MSE OLS - Polinômio de grau 01: 0.45597215629744864\n",
      "MSE OLS - Polinômio de grau 02: 0.3899240348661593\n",
      "MSE OLS - Polinômio de grau 03: 0.38998231928872884\n",
      "MSE OLS - Polinômio de grau 04: 0.36462986116940455\n",
      "MSE OLS - Polinômio de grau 05: 1.5760531795650232\n",
      "MSE OLS - Polinômio de grau 06: 0.3641995677718611\n",
      "MSE OLS - Polinômio de grau 07: 0.3580035303910964\n",
      "MSE OLS - Polinômio de grau 08: 0.34716428049601594\n",
      "MSE OLS - Polinômio de grau 09: 0.3625440623835709\n",
      "MSE OLS - Polinômio de grau 10: 0.370593211559068\n",
      "MSE OLS - Polinômio de grau 11: 0.3871390578579385\n",
      "MSE OLS - Polinômio de grau 12: 0.41768178554651364\n",
      "MSE OLS - Polinômio de grau 13: 0.3615144583754144\n"
     ]
    }
   ],
   "source": [
    "for e in range(1, 14):\n",
    "    x_california_poly_data = polify(x_california_data, e)\n",
    "\n",
    "    x_california_train_data, x_california_test_data = split_train_test(x_california_poly_data, y_california_data, 0.8)\n",
    "\n",
    "    x_california_poly_train_data = add_independent_term_column(x_california_train_data[:, :-1])\n",
    "    y_california_poly_train_data = x_california_train_data[:, [-1]]\n",
    "\n",
    "    w_california_poly_data_ols, mse_california_data_ols = ols(x_california_poly_train_data, y_california_poly_train_data)\n",
    "\n",
    "    print(f\"MSE OLS - Polinômio de grau {e:02}: {mse_california_data_ols}\")"
   ]
  },
  {
   "cell_type": "code",
   "execution_count": 35,
   "metadata": {},
   "outputs": [
    {
     "name": "stdout",
     "output_type": "stream",
     "text": [
      "RMSE OLS - Polinômio de grau 01: 0.05689536762585117\n",
      "RMSE OLS - Polinômio de grau 02: 0.05251189024486484\n",
      "RMSE OLS - Polinômio de grau 03: 0.05181929492684268\n",
      "RMSE OLS - Polinômio de grau 04: 0.054530203987410035\n",
      "RMSE OLS - Polinômio de grau 05: 0.05429554318621056\n",
      "RMSE OLS - Polinômio de grau 06: 0.055730729330896206\n",
      "RMSE OLS - Polinômio de grau 07: 0.05768318620621054\n",
      "RMSE OLS - Polinômio de grau 08: 0.055447985085400636\n",
      "RMSE OLS - Polinômio de grau 09: 0.056071103217787854\n",
      "RMSE OLS - Polinômio de grau 10: 0.053866388695649865\n",
      "RMSE OLS - Polinômio de grau 11: 0.053484026973178785\n",
      "RMSE OLS - Polinômio de grau 12: 0.05782508413295501\n",
      "RMSE OLS - Polinômio de grau 13: 0.053511718521713644\n"
     ]
    }
   ],
   "source": [
    "rmse_california_train = []\n",
    "rmse_california_test = []\n",
    "\n",
    "for e in range(1, 14):\n",
    "    x_california_poly_data = polify(x_california_data, e)\n",
    "\n",
    "    california_train_data, california_test_data = split_train_test(x_california_poly_data, y_california_data, 0.8)\n",
    "\n",
    "    y_california_train_data = california_train_data[:, [-1]]\n",
    "    x_california_test_data = add_independent_term_column(california_test_data[:, :-1])\n",
    "    y_california_test_data = california_test_data[:, [-1]]\n",
    "\n",
    "    x_california_train_data_normalized, y_california_train_data_normalized, xscale_california, yscale_california = normalize_dataset_minmax(x_california_train_data, y_california_train_data)\n",
    "    x_california_train_data_normalized = add_independent_term_column(x_california_train_data_normalized)\n",
    "\n",
    "    w_california_poly_data_ols, mse_california_data_ols = ols(x_california_train_data_normalized, y_california_train_data_normalized)\n",
    "\n",
    "    rmse_california_train.append(np.sqrt(mse_california_data_ols))\n",
    "    print(f\"RMSE OLS - Polinômio de grau {e:02}: {mse_california_data_ols}\")"
   ]
  }
 ],
 "metadata": {
  "kernelspec": {
   "display_name": "MachineLearning",
   "language": "python",
   "name": "python3"
  },
  "language_info": {
   "codemirror_mode": {
    "name": "ipython",
    "version": 3
   },
   "file_extension": ".py",
   "mimetype": "text/x-python",
   "name": "python",
   "nbconvert_exporter": "python",
   "pygments_lexer": "ipython3",
   "version": "3.11.2"
  },
  "orig_nbformat": 4
 },
 "nbformat": 4,
 "nbformat_minor": 2
}
