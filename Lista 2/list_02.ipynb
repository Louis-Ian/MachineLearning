{
 "cells": [
  {
   "attachments": {},
   "cell_type": "markdown",
   "metadata": {},
   "source": [
    "# Lista 2"
   ]
  },
  {
   "attachments": {},
   "cell_type": "markdown",
   "metadata": {},
   "source": [
    "## `Questão 1`\n",
    "Considere o conjunto de dados disponível em **`breastcancer.csv`**, organizado em 31 colunas, sendo as 30 primeiras colunas os atributos e a última coluna a saída. Os 30 atributos coletados de exames médicos são usados no diagnóstico do câncer de mama, sendo 1 a classe positiva e 0 a classe negativa. Maiores detalhes sobre os dados podem ser conferidos em https://scikit-learn.org/stable/datasets/toy_dataset.html#breast-cancer-dataset.\n",
    "\n",
    "A) Considerando uma validação cruzada em 10 folds, avalie modelos de classicação binária nos dados em questão. Para tanto, use as abordagens\n",
    "abaixo:  \n",
    "\n",
    "- **Regressão logística** (treinado com GD ou SGD);\n",
    "- **Análise do discriminante Gaussiano**;\n",
    "- **Naive Bayes Gaussiano**."
   ]
  },
  {
   "cell_type": "code",
   "execution_count": 1,
   "metadata": {},
   "outputs": [],
   "source": [
    "import numpy as np\n",
    "import matplotlib as mpl\n",
    "import matplotlib.pyplot as plt\n",
    "from typing import Tuple\n",
    "\n",
    "np.random.seed(42)"
   ]
  },
  {
   "cell_type": "code",
   "execution_count": 2,
   "metadata": {},
   "outputs": [
    {
     "data": {
      "text/plain": [
       "(569, 31)"
      ]
     },
     "execution_count": 2,
     "metadata": {},
     "output_type": "execute_result"
    }
   ],
   "source": [
    "breastcancer_data = np.loadtxt('./breastcancer.csv', delimiter=',')\n",
    "breastcancer_data.shape"
   ]
  },
  {
   "cell_type": "code",
   "execution_count": 3,
   "metadata": {},
   "outputs": [],
   "source": [
    "def add_independent_term_column(x: np.ndarray):\n",
    "    return np.hstack((np.ones((x.shape[0], 1)), x))"
   ]
  },
  {
   "cell_type": "code",
   "execution_count": 4,
   "metadata": {},
   "outputs": [
    {
     "data": {
      "text/plain": [
       "(569, 31)"
      ]
     },
     "execution_count": 4,
     "metadata": {},
     "output_type": "execute_result"
    }
   ],
   "source": [
    "x_breastcancer_data = breastcancer_data[:, :-1]\n",
    "x_breastcancer_data = add_independent_term_column(x_breastcancer_data)\n",
    "x_breastcancer_data.shape"
   ]
  },
  {
   "cell_type": "code",
   "execution_count": 5,
   "metadata": {},
   "outputs": [
    {
     "data": {
      "text/plain": [
       "(569, 1)"
      ]
     },
     "execution_count": 5,
     "metadata": {},
     "output_type": "execute_result"
    }
   ],
   "source": [
    "y_breastcancer_data = breastcancer_data[:, [-1]]\n",
    "y_breastcancer_data.shape"
   ]
  },
  {
   "attachments": {},
   "cell_type": "markdown",
   "metadata": {},
   "source": [
    "### `K-Fold`"
   ]
  },
  {
   "cell_type": "code",
   "execution_count": 6,
   "metadata": {},
   "outputs": [],
   "source": [
    "def kfold_split(x: np.ndarray, y: np.ndarray, n_partitions: int):\n",
    "    k_folds = []\n",
    "\n",
    "    xy = np.random.permutation(np.hstack((x, y)))\n",
    "\n",
    "    for i in range(n_partitions):\n",
    "        k_folds.append(xy[i*n_partitions : (i+1)*n_partitions, :])\n",
    "\n",
    "    return np.array(k_folds, dtype=\"object\")\n",
    "\n",
    "def loo_split(x: np.ndarray, y: np.ndarray):\n",
    "    return kfold_split(x, y, x.shape[0])"
   ]
  },
  {
   "attachments": {},
   "cell_type": "markdown",
   "metadata": {},
   "source": [
    "### `GD - Gradiente Descendente`"
   ]
  },
  {
   "cell_type": "code",
   "execution_count": 7,
   "metadata": {},
   "outputs": [],
   "source": [
    "def log_func(value: float):\n",
    "    return 1 / (1 + np.exp(-value))"
   ]
  },
  {
   "cell_type": "code",
   "execution_count": 8,
   "metadata": {},
   "outputs": [],
   "source": [
    "def binary_cross_entropy(x: np.ndarray, w: np.ndarray, y: np.ndarray):\n",
    "    noise = 1e-15\n",
    "    y_pred = np.maximum(np.minimum(x @ w, 1 - noise), noise)\n",
    "\n",
    "    return (y * np.log(y_pred) + (1 - y) * np.log(1 - y_pred)).mean()"
   ]
  },
  {
   "cell_type": "code",
   "execution_count": 9,
   "metadata": {},
   "outputs": [],
   "source": [
    "# Gradiente descendente\n",
    "def gd_log(x: np.ndarray, y: np.ndarray, alpha: float = 0.001, max_iterations: int = 100000, stopping_error: float = 1e-10):\n",
    "    # Importando features e saídas\n",
    "    X = x.copy()\n",
    "    Y = y.copy()\n",
    "\n",
    "    # Inicializando os pesos\n",
    "    w_gd = np.zeros((X.shape[1], 1))\n",
    "\n",
    "    errors_list_gd = np.empty((max_iterations, X.shape[0]))\n",
    "    cross_loss_list_gd = []\n",
    "\n",
    "    # Gradiente descendente\n",
    "    for iter in range(max_iterations):\n",
    "\n",
    "        # Calculando o erro\n",
    "        pred_gd = log_func(X @ w_gd)\n",
    "        error_gd = Y - pred_gd\n",
    "        \n",
    "        # w_gd[0] = w_gd[0] + alpha * error_gd.mean(axis = 0)\n",
    "        # w_gd[1:] = w_gd[1:] + alpha * (X[:,1:].T @ error_gd) / X.shape[0]\n",
    "        w_gd = w_gd + alpha * (X.T @ error_gd) / X.shape[0]\n",
    "\n",
    "        # Calculando e registrando a cross entropia binária\n",
    "        cross_loss_list_gd.append(binary_cross_entropy(X, w_gd, Y))\n",
    "\n",
    "        # Parar caso o erro esteja abaixo do mínimo aceitável\n",
    "        # if(cross_loss_list_gd[iter] < stopping_error):\n",
    "        #     print(f'GD encerrado precocemente pois os erros estão baixos o suficiente')\n",
    "        #     break\n",
    "    \n",
    "    return w_gd, cross_loss_list_gd"
   ]
  },
  {
   "cell_type": "code",
   "execution_count": 10,
   "metadata": {},
   "outputs": [
    {
     "name": "stderr",
     "output_type": "stream",
     "text": [
      "/var/folders/tc/mq592t7x67qbgfpvnk8cgrd80000gn/T/ipykernel_65042/745459150.py:2: RuntimeWarning: overflow encountered in exp\n",
      "  return 1 / (1 + np.exp(-value))\n"
     ]
    }
   ],
   "source": [
    "w_breastcancer_data_gd_log, cross_loss_list_gd_log = gd_log(x_breastcancer_data, y_breastcancer_data, alpha=0.01, max_iterations=100000)"
   ]
  },
  {
   "attachments": {},
   "cell_type": "markdown",
   "metadata": {},
   "source": [
    "#### Parâmetros do modelo e **MSE (Erro Quadrático Médio)** final obitidos pelo algoritmo"
   ]
  },
  {
   "cell_type": "code",
   "execution_count": 11,
   "metadata": {},
   "outputs": [
    {
     "data": {
      "text/plain": [
       "array([[ -4.05129661],\n",
       "       [-29.38127578],\n",
       "       [ -3.75771233],\n",
       "       [-71.55096879],\n",
       "       [ -0.02619609],\n",
       "       [  0.54463693],\n",
       "       [  3.21413288],\n",
       "       [  4.69033744],\n",
       "       [  1.88547635],\n",
       "       [  0.85164774],\n",
       "       [  0.15133223],\n",
       "       [ -0.71838617],\n",
       "       [ -3.46274753],\n",
       "       [  7.96352633],\n",
       "       [ 10.11467102],\n",
       "       [  0.07516133],\n",
       "       [  0.76806003],\n",
       "       [  1.05663293],\n",
       "       [  0.25377747],\n",
       "       [  0.20763119],\n",
       "       [  0.06634365],\n",
       "       [-30.20351979],\n",
       "       [ 36.5503295 ],\n",
       "       [ 15.95107691],\n",
       "       [  5.04740064],\n",
       "       [  1.12421602],\n",
       "       [ 10.84422296],\n",
       "       [ 13.49654555],\n",
       "       [  3.72388284],\n",
       "       [  2.92680562],\n",
       "       [  0.97218139]])"
      ]
     },
     "execution_count": 11,
     "metadata": {},
     "output_type": "execute_result"
    }
   ],
   "source": [
    "np.set_printoptions(precision=8, suppress=True)\n",
    "w_breastcancer_data_gd_log"
   ]
  },
  {
   "cell_type": "code",
   "execution_count": 12,
   "metadata": {},
   "outputs": [
    {
     "data": {
      "text/plain": [
       "-3.095744104987479"
      ]
     },
     "execution_count": 12,
     "metadata": {},
     "output_type": "execute_result"
    }
   ],
   "source": [
    "cross_loss_list_gd_log[-1]"
   ]
  },
  {
   "attachments": {},
   "cell_type": "markdown",
   "metadata": {},
   "source": [
    "#### Plote da curva de aprendizagem"
   ]
  },
  {
   "cell_type": "code",
   "execution_count": 13,
   "metadata": {},
   "outputs": [
    {
     "data": {
      "image/png": "[encoded data removed]",
      "text/plain": [
       "<Figure size 640x480 with 1 Axes>"
      ]
     },
     "metadata": {},
     "output_type": "display_data"
    }
   ],
   "source": [
    "fig, ax = plt.subplots()\n",
    "\n",
    "ax.set_title(\"Gradient Descendent Cross Entropy Loss progression\")\n",
    "ax.set_ylabel(\"CEL\")\n",
    "ax.set_xlabel(\"Iteration\")\n",
    "\n",
    "ax.plot(np.arange(len(cross_loss_list_gd_log)), cross_loss_list_gd_log, color='black', linewidth='0.8')\n",
    "ax.grid(True)\n",
    "\n",
    "plt.show()"
   ]
  },
  {
   "attachments": {},
   "cell_type": "markdown",
   "metadata": {},
   "source": [
    "B) Para cada modelo criado, reporte valor médio e desvio padrão da **acurácia global** e da **acurácia por classe**"
   ]
  },
  {
   "cell_type": "code",
   "execution_count": 14,
   "metadata": {},
   "outputs": [],
   "source": [
    "def acc_log(x: np.ndarray, w:np.ndarray, y:np.ndarray):\n",
    "    y_pred = log_func(x @ w)\n",
    "\n",
    "    true_pos = ((y==1) & (y_pred == 1)).sum()\n",
    "    true_neg = ((y==0) & (y_pred == 0)).sum()\n",
    "    false_pos = ((y==0) & (y_pred == 1)).sum()\n",
    "    false_neg = ((y==1) & (y_pred == 0)).sum()\n",
    "    global_acc = (true_pos + true_neg) / (true_pos + true_neg + false_pos + false_neg)\n",
    "    class1_acc = true_pos / (true_pos + false_pos)\n",
    "    class2_acc = true_neg / (true_neg + false_neg)\n",
    "\n",
    "    return global_acc, class1_acc, class2_acc"
   ]
  },
  {
   "cell_type": "code",
   "execution_count": 15,
   "metadata": {},
   "outputs": [
    {
     "name": "stderr",
     "output_type": "stream",
     "text": [
      "/var/folders/tc/mq592t7x67qbgfpvnk8cgrd80000gn/T/ipykernel_65042/745459150.py:2: RuntimeWarning: overflow encountered in exp\n",
      "  return 1 / (1 + np.exp(-value))\n"
     ]
    },
    {
     "data": {
      "text/plain": [
       "(0.9730848861283644, 0.9938271604938271, 0.9626168224299065)"
      ]
     },
     "execution_count": 15,
     "metadata": {},
     "output_type": "execute_result"
    }
   ],
   "source": [
    "acc_log(x_breastcancer_data, w_breastcancer_data_gd_log, y_breastcancer_data)"
   ]
  },
  {
   "attachments": {},
   "cell_type": "markdown",
   "metadata": {},
   "source": [
    "### `SGD - Gradiente Descendente Estocástico`"
   ]
  },
  {
   "cell_type": "code",
   "execution_count": 16,
   "metadata": {},
   "outputs": [],
   "source": [
    "# Gradiente descendente estocástico\n",
    "def sgd(x: np.ndarray, y: np.ndarray, alpha: float = 0.001, max_epochs: int = 100, stopping_error: float = 1e-10):\n",
    "    # Importando features e saídas\n",
    "    X = x.copy()\n",
    "    Y = y.copy()\n",
    "\n",
    "    # Inicializando os pesos\n",
    "    w_sgd = np.zeros((X.shape[1], 1))\n",
    "\n",
    "    errors_list_sgd = np.empty((max_epochs * X.shape[0], X.shape[0]))\n",
    "    mse_list_sgd = np.empty((max_epochs * X.shape[0], 1))\n",
    "\n",
    "    # Gradiente descendente estocástico\n",
    "    for epoch in range(max_epochs):\n",
    "        # Permutando dados (entradas e saídas)\n",
    "        XY = np.hstack((X, Y))\n",
    "        XY = np.random.permutation(XY)\n",
    "        X = XY[:, :-1]\n",
    "        Y = XY[:, [-1]]\n",
    "\n",
    "        for entry in range(X.shape[0]):\n",
    "            # Calculando o erro\n",
    "            pred_sgd = X[entry] @ w_sgd\n",
    "            error_sgd = Y[entry] - pred_sgd\n",
    "            \n",
    "            w_sgd[0] = w_sgd[0] + alpha * error_sgd\n",
    "            w_sgd[1:] = w_sgd[1:] + alpha * (X[entry,[1]].T * error_sgd)\n",
    "\n",
    "            # Calculando o MSE e registrando o MSE e os Erros\n",
    "            errors_list_sgd[[epoch * X.shape[0] + entry], :] = error_sgd.reshape(1, -1)\n",
    "            mse_list_sgd[epoch * X.shape[0] + entry] = mse_gd(X, w_sgd, Y)\n",
    "\n",
    "            # Parar caso o erro esteja abaixo do mínimo aceitável\n",
    "            # if(mse < stopping_error):\n",
    "            #     print(f'SGD encerrado precocemente pois os erros estão baixos o suficiente')\n",
    "            #     break\n",
    "    \n",
    "    return w_sgd, mse_gd(X, w_sgd, y), errors_list_sgd, mse_list_sgd"
   ]
  },
  {
   "cell_type": "code",
   "execution_count": 17,
   "metadata": {},
   "outputs": [
    {
     "ename": "NameError",
     "evalue": "name 'mse_gd' is not defined",
     "output_type": "error",
     "traceback": [
      "\u001b[0;31m---------------------------------------------------------------------------\u001b[0m",
      "\u001b[0;31mNameError\u001b[0m                                 Traceback (most recent call last)",
      "Cell \u001b[0;32mIn[17], line 1\u001b[0m\n\u001b[0;32m----> 1\u001b[0m w_breastcancer_data_sgd, mse_breastcancer_data_sgd, errors_list_sgd, mse_list_sgd \u001b[39m=\u001b[39m sgd(x_breastcancer_data, y_breastcancer_data, alpha\u001b[39m=\u001b[39;49m \u001b[39m0.01\u001b[39;49m, max_epochs\u001b[39m=\u001b[39;49m\u001b[39m60\u001b[39;49m)\n",
      "Cell \u001b[0;32mIn[16], line 31\u001b[0m, in \u001b[0;36msgd\u001b[0;34m(x, y, alpha, max_epochs, stopping_error)\u001b[0m\n\u001b[1;32m     29\u001b[0m         \u001b[39m# Calculando o MSE e registrando o MSE e os Erros\u001b[39;00m\n\u001b[1;32m     30\u001b[0m         errors_list_sgd[[epoch \u001b[39m*\u001b[39m X\u001b[39m.\u001b[39mshape[\u001b[39m0\u001b[39m] \u001b[39m+\u001b[39m entry], :] \u001b[39m=\u001b[39m error_sgd\u001b[39m.\u001b[39mreshape(\u001b[39m1\u001b[39m, \u001b[39m-\u001b[39m\u001b[39m1\u001b[39m)\n\u001b[0;32m---> 31\u001b[0m         mse_list_sgd[epoch \u001b[39m*\u001b[39m X\u001b[39m.\u001b[39mshape[\u001b[39m0\u001b[39m] \u001b[39m+\u001b[39m entry] \u001b[39m=\u001b[39m mse_gd(X, w_sgd, Y)\n\u001b[1;32m     33\u001b[0m         \u001b[39m# Parar caso o erro esteja abaixo do mínimo aceitável\u001b[39;00m\n\u001b[1;32m     34\u001b[0m         \u001b[39m# if(mse < stopping_error):\u001b[39;00m\n\u001b[1;32m     35\u001b[0m         \u001b[39m#     print(f'SGD encerrado precocemente pois os erros estão baixos o suficiente')\u001b[39;00m\n\u001b[1;32m     36\u001b[0m         \u001b[39m#     break\u001b[39;00m\n\u001b[1;32m     38\u001b[0m \u001b[39mreturn\u001b[39;00m w_sgd, mse_gd(X, w_sgd, y), errors_list_sgd, mse_list_sgd\n",
      "\u001b[0;31mNameError\u001b[0m: name 'mse_gd' is not defined"
     ]
    }
   ],
   "source": [
    "w_breastcancer_data_sgd, mse_breastcancer_data_sgd, errors_list_sgd, mse_list_sgd = sgd(x_breastcancer_data, y_breastcancer_data, alpha= 0.01, max_epochs=60)"
   ]
  },
  {
   "attachments": {},
   "cell_type": "markdown",
   "metadata": {},
   "source": [
    "#### Parâmetros do modelo e **MSE (Erro Quadrático Médio)** final obitidos pelo algoritmo"
   ]
  },
  {
   "cell_type": "code",
   "execution_count": null,
   "metadata": {},
   "outputs": [
    {
     "data": {
      "text/plain": [
       "array([[nan],\n",
       "       [nan],\n",
       "       [nan],\n",
       "       [nan],\n",
       "       [nan],\n",
       "       [nan],\n",
       "       [nan],\n",
       "       [nan],\n",
       "       [nan],\n",
       "       [nan],\n",
       "       [nan],\n",
       "       [nan],\n",
       "       [nan],\n",
       "       [nan],\n",
       "       [nan],\n",
       "       [nan],\n",
       "       [nan],\n",
       "       [nan],\n",
       "       [nan],\n",
       "       [nan],\n",
       "       [nan],\n",
       "       [nan],\n",
       "       [nan],\n",
       "       [nan],\n",
       "       [nan],\n",
       "       [nan],\n",
       "       [nan],\n",
       "       [nan],\n",
       "       [nan],\n",
       "       [nan],\n",
       "       [nan]])"
      ]
     },
     "execution_count": 69,
     "metadata": {},
     "output_type": "execute_result"
    }
   ],
   "source": [
    "w_breastcancer_data_sgd"
   ]
  },
  {
   "cell_type": "code",
   "execution_count": null,
   "metadata": {},
   "outputs": [
    {
     "data": {
      "text/plain": [
       "nan"
      ]
     },
     "execution_count": 70,
     "metadata": {},
     "output_type": "execute_result"
    }
   ],
   "source": [
    "mse_breastcancer_data_sgd"
   ]
  },
  {
   "attachments": {},
   "cell_type": "markdown",
   "metadata": {},
   "source": [
    "#### Plote da curva de aprendizagem"
   ]
  },
  {
   "cell_type": "code",
   "execution_count": null,
   "metadata": {},
   "outputs": [
    {
     "data": {
      "image/png": "[encoded data removed]",
      "text/plain": [
       "<Figure size 640x480 with 1 Axes>"
      ]
     },
     "metadata": {},
     "output_type": "display_data"
    }
   ],
   "source": [
    "fig, ax = plt.subplots()\n",
    "\n",
    "ax.set_title(\"Stocastic Gradient Descent MSE progression\")\n",
    "ax.set_ylabel(\"MSE\")\n",
    "ax.set_xlabel(\"Iteration\")\n",
    "\n",
    "ax.plot(np.arange(mse_list_sgd.shape[0]), mse_list_sgd, color='black', linewidth='0.8')\n",
    "ax.grid(True)\n",
    "\n",
    "plt.show()"
   ]
  },
  {
   "cell_type": "code",
   "execution_count": null,
   "metadata": {},
   "outputs": [],
   "source": [
    "def normalize_dataset_minmax(x: np.ndarray, y: np.ndarray):\n",
    "    x_columns_max = x.max(axis=0)\n",
    "    ymax = y.max()\n",
    "    \n",
    "    x_columns_min = x.min(axis=0)\n",
    "    ymin = y.min()\n",
    "\n",
    "    x = (x - x_columns_min) / (x_columns_max - x_columns_min)\n",
    "    y = (y - ymin) / (ymax - ymin)\n",
    "\n",
    "    # Valores necessários para a desnormalização\n",
    "    xscale_tuple = (x_columns_max - x_columns_min, x_columns_min)\n",
    "    yscale_tuple = (ymax - ymin, ymin)\n",
    "    \n",
    "    return x, y, xscale_tuple, yscale_tuple\n",
    "\n",
    "def denormalize_dataset_minmax(x: np.ndarray, y: np.ndarray, xscale: Tuple[np.ndarray, np.ndarray], yscale: Tuple[float, float]):\n",
    "    y = y * yscale[0] + yscale[1]\n",
    "    x = x * xscale[0] + xscale[1]\n",
    "\n",
    "    return x, y\n",
    "\n",
    "def normalize_dataset_zscore(x: np.ndarray, y: np.ndarray):\n",
    "    return \n",
    "\n",
    "def denormalize_dataset_zscore(x: np.ndarray, y: np.ndarray, scale: float):\n",
    "    return "
   ]
  },
  {
   "cell_type": "code",
   "execution_count": null,
   "metadata": {},
   "outputs": [],
   "source": [
    "def split_train_test(x: np.ndarray, y: np.ndarray, split: float):\n",
    "    # Checar valor do split\n",
    "    if not (0.0 <= split <= 1.0):\n",
    "        raise ValueError(\"O valor de split deve ser de 0 à 1\")\n",
    "    \n",
    "    # Permuta os dados\n",
    "    xy = np.random.permutation(np.hstack((x, y)))\n",
    "\n",
    "    # Divide os dados entre treino e teste\n",
    "    split_index = int(np.rint(xy.shape[0] * split))\n",
    "    train = xy[:split_index, :]\n",
    "    test = xy[split_index:, :]\n",
    "\n",
    "    return train, test"
   ]
  }
 ],
 "metadata": {
  "kernelspec": {
   "display_name": "MachineLearning",
   "language": "python",
   "name": "python3"
  },
  "language_info": {
   "codemirror_mode": {
    "name": "ipython",
    "version": 3
   },
   "file_extension": ".py",
   "mimetype": "text/x-python",
   "name": "python",
   "nbconvert_exporter": "python",
   "pygments_lexer": "ipython3",
   "version": "3.11.2"
  },
  "orig_nbformat": 4
 },
 "nbformat": 4,
 "nbformat_minor": 2
}
