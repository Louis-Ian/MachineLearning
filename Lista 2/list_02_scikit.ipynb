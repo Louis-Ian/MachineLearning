{
 "cells": [
  {
   "cell_type": "code",
   "execution_count": 5,
   "metadata": {},
   "outputs": [
    {
     "name": "stdout",
     "output_type": "stream",
     "text": [
      "Final MSE: 0.008787346221441126\n",
      "Weights: [[ 3.58332825  0.16655187  3.01130171  1.15967018 -1.62378273  6.79064547\n",
      "  -5.5100704  -3.78815012  0.7618796  -0.88644626 -4.13531908  1.55410085\n",
      "   2.65913085 -6.24353191 -1.13502858 -3.22534866  4.20073538 -4.61055116\n",
      "   1.21337116  7.55761794 -5.24264686 -3.97188423 -4.20081939 -7.21171567\n",
      "   0.69952185  2.78595114 -3.03820396 -0.04625165 -2.2780704  -5.13825947]]\n"
     ]
    },
    {
     "name": "stderr",
     "output_type": "stream",
     "text": [
      "c:\\Users\\louis\\anaconda3\\envs\\MachineLearning\\Lib\\site-packages\\sklearn\\linear_model\\_sag.py:350: ConvergenceWarning: The max_iter was reached which means the coef_ did not converge\n",
      "  warnings.warn(\n"
     ]
    }
   ],
   "source": [
    "from sklearn.datasets import load_breast_cancer\n",
    "from sklearn.linear_model import LogisticRegression\n",
    "from sklearn.metrics import mean_squared_error\n",
    "from sklearn.preprocessing import StandardScaler\n",
    "\n",
    "# Load the breast cancer dataset\n",
    "data = load_breast_cancer()\n",
    "\n",
    "# Scale the data using the StandardScaler\n",
    "scaler = StandardScaler()\n",
    "X = scaler.fit_transform(data.data)\n",
    "y = data.target\n",
    "\n",
    "# Train a logistic regression model using gradient descent\n",
    "clf = LogisticRegression(solver='saga', penalty=None, max_iter=10000, tol=1e-6)\n",
    "clf.fit(X, y)\n",
    "\n",
    "# Compute the final mean squared error on the entire dataset\n",
    "y_pred = clf.predict(X)\n",
    "mse = mean_squared_error(y, y_pred)\n",
    "print(\"Final MSE:\", mse)\n",
    "print(\"Weights:\", clf.coef_)"
   ]
  }
 ],
 "metadata": {
  "kernelspec": {
   "display_name": "MachineLearning",
   "language": "python",
   "name": "python3"
  },
  "language_info": {
   "codemirror_mode": {
    "name": "ipython",
    "version": 3
   },
   "file_extension": ".py",
   "mimetype": "text/x-python",
   "name": "python",
   "nbconvert_exporter": "python",
   "pygments_lexer": "ipython3",
   "version": "3.11.2"
  },
  "orig_nbformat": 4
 },
 "nbformat": 4,
 "nbformat_minor": 2
}
