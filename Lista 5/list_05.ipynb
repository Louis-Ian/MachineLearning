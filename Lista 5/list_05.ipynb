{
 "cells": [
  {
   "cell_type": "code",
   "execution_count": 1,
   "metadata": {},
   "outputs": [],
   "source": [
    "import numpy as np\n",
    "import pandas as pd\n",
    "import matplotlib.pyplot as plt\n",
    "from sklearn.preprocessing import MinMaxScaler\n",
    "from sklearn.model_selection import train_test_split\n",
    "from sklearn.svm import SVC\n",
    "from sklearn.model_selection import KFold, GridSearchCV\n",
    "from sklearn.preprocessing import StandardScaler\n",
    "from sklearn.pipeline import Pipeline\n",
    "from sklearn.metrics import accuracy_score, precision_score, recall_score, f1_score, confusion_matrix, roc_curve"
   ]
  },
  {
   "cell_type": "code",
   "execution_count": 2,
   "metadata": {},
   "outputs": [
    {
     "data": {
      "text/html": [
       "<div>\n",
       "<style scoped>\n",
       "    .dataframe tbody tr th:only-of-type {\n",
       "        vertical-align: middle;\n",
       "    }\n",
       "\n",
       "    .dataframe tbody tr th {\n",
       "        vertical-align: top;\n",
       "    }\n",
       "\n",
       "    .dataframe thead th {\n",
       "        text-align: right;\n",
       "    }\n",
       "</style>\n",
       "<table border=\"1\" class=\"dataframe\">\n",
       "  <thead>\n",
       "    <tr style=\"text-align: right;\">\n",
       "      <th></th>\n",
       "      <th>4.168499999999999872e+00</th>\n",
       "      <th>2.000000000000000000e+01</th>\n",
       "      <th>6.700636942675159524e+00</th>\n",
       "      <th>1.178343949044585948e+00</th>\n",
       "      <th>7.450000000000000000e+02</th>\n",
       "      <th>2.372611464968152895e+00</th>\n",
       "      <th>3.879999999999999716e+01</th>\n",
       "      <th>-1.211500000000000057e+02</th>\n",
       "      <th>1.000000000000000000e+00</th>\n",
       "    </tr>\n",
       "  </thead>\n",
       "  <tbody>\n",
       "    <tr>\n",
       "      <th>0</th>\n",
       "      <td>2.8194</td>\n",
       "      <td>24.0</td>\n",
       "      <td>4.762500</td>\n",
       "      <td>1.020833</td>\n",
       "      <td>608.0</td>\n",
       "      <td>2.533333</td>\n",
       "      <td>36.75</td>\n",
       "      <td>-119.85</td>\n",
       "      <td>0.0</td>\n",
       "    </tr>\n",
       "    <tr>\n",
       "      <th>1</th>\n",
       "      <td>2.4250</td>\n",
       "      <td>46.0</td>\n",
       "      <td>4.927711</td>\n",
       "      <td>1.018072</td>\n",
       "      <td>772.0</td>\n",
       "      <td>2.325301</td>\n",
       "      <td>36.33</td>\n",
       "      <td>-119.31</td>\n",
       "      <td>0.0</td>\n",
       "    </tr>\n",
       "    <tr>\n",
       "      <th>2</th>\n",
       "      <td>3.1205</td>\n",
       "      <td>16.0</td>\n",
       "      <td>3.728477</td>\n",
       "      <td>1.101545</td>\n",
       "      <td>1260.0</td>\n",
       "      <td>2.781457</td>\n",
       "      <td>33.87</td>\n",
       "      <td>-117.99</td>\n",
       "      <td>0.0</td>\n",
       "    </tr>\n",
       "    <tr>\n",
       "      <th>3</th>\n",
       "      <td>4.3889</td>\n",
       "      <td>41.0</td>\n",
       "      <td>5.741007</td>\n",
       "      <td>1.199041</td>\n",
       "      <td>837.0</td>\n",
       "      <td>2.007194</td>\n",
       "      <td>34.15</td>\n",
       "      <td>-118.40</td>\n",
       "      <td>1.0</td>\n",
       "    </tr>\n",
       "    <tr>\n",
       "      <th>4</th>\n",
       "      <td>2.9934</td>\n",
       "      <td>52.0</td>\n",
       "      <td>3.441379</td>\n",
       "      <td>1.020690</td>\n",
       "      <td>318.0</td>\n",
       "      <td>2.193103</td>\n",
       "      <td>37.57</td>\n",
       "      <td>-122.32</td>\n",
       "      <td>1.0</td>\n",
       "    </tr>\n",
       "  </tbody>\n",
       "</table>\n",
       "</div>"
      ],
      "text/plain": [
       "   4.168499999999999872e+00  2.000000000000000000e+01  \\\n",
       "0                    2.8194                      24.0   \n",
       "1                    2.4250                      46.0   \n",
       "2                    3.1205                      16.0   \n",
       "3                    4.3889                      41.0   \n",
       "4                    2.9934                      52.0   \n",
       "\n",
       "   6.700636942675159524e+00  1.178343949044585948e+00  \\\n",
       "0                  4.762500                  1.020833   \n",
       "1                  4.927711                  1.018072   \n",
       "2                  3.728477                  1.101545   \n",
       "3                  5.741007                  1.199041   \n",
       "4                  3.441379                  1.020690   \n",
       "\n",
       "   7.450000000000000000e+02  2.372611464968152895e+00  \\\n",
       "0                     608.0                  2.533333   \n",
       "1                     772.0                  2.325301   \n",
       "2                    1260.0                  2.781457   \n",
       "3                     837.0                  2.007194   \n",
       "4                     318.0                  2.193103   \n",
       "\n",
       "   3.879999999999999716e+01  -1.211500000000000057e+02  \\\n",
       "0                     36.75                    -119.85   \n",
       "1                     36.33                    -119.31   \n",
       "2                     33.87                    -117.99   \n",
       "3                     34.15                    -118.40   \n",
       "4                     37.57                    -122.32   \n",
       "\n",
       "   1.000000000000000000e+00  \n",
       "0                       0.0  \n",
       "1                       0.0  \n",
       "2                       0.0  \n",
       "3                       1.0  \n",
       "4                       1.0  "
      ]
     },
     "execution_count": 2,
     "metadata": {},
     "output_type": "execute_result"
    }
   ],
   "source": [
    "df = pd.read_csv('californiabin.csv')\n",
    "df.head()"
   ]
  },
  {
   "cell_type": "code",
   "execution_count": 3,
   "metadata": {},
   "outputs": [
    {
     "data": {
      "text/plain": [
       "(1999, 9)"
      ]
     },
     "execution_count": 3,
     "metadata": {},
     "output_type": "execute_result"
    }
   ],
   "source": [
    "data = df.values\n",
    "data.shape"
   ]
  },
  {
   "cell_type": "code",
   "execution_count": 4,
   "metadata": {},
   "outputs": [],
   "source": [
    "attributes = data[:, :-1]\n",
    "targets = data[:, -1]"
   ]
  },
  {
   "cell_type": "code",
   "execution_count": 5,
   "metadata": {},
   "outputs": [
    {
     "data": {
      "text/plain": [
       "{'svc__C': [0.5, 2, 8, 32],\n",
       " 'svc__kernel': ['rbf'],\n",
       " 'svc__gamma': [0.0078125, 0.03125, 0.125, 0.5]}"
      ]
     },
     "execution_count": 5,
     "metadata": {},
     "output_type": "execute_result"
    }
   ],
   "source": [
    "hyperparameters = {\n",
    "    'svc__C' : [2**i for i in range(-1, 7, 2)],\n",
    "    'svc__kernel' : ['rbf'],\n",
    "    'svc__gamma' : [2**i for i in range(-7, 1, 2)]\n",
    "}"
   ]
  },
  {
   "cell_type": "code",
   "execution_count": 19,
   "metadata": {},
   "outputs": [
    {
     "data": {
      "text/plain": [
       "{'svc__C': [0.5, 2, 8, 32],\n",
       " 'svc__kernel': ['rbf'],\n",
       " 'svc__gamma': [0.0078125, 0.03125, 0.125, 0.5]}"
      ]
     },
     "execution_count": 19,
     "metadata": {},
     "output_type": "execute_result"
    }
   ],
   "source": [
    "hyperparameters"
   ]
  },
  {
   "cell_type": "code",
   "execution_count": 6,
   "metadata": {},
   "outputs": [],
   "source": [
    "train_attributes, test_attributes, train_targets, test_targets = train_test_split(attributes, targets, test_size=0.2, random_state=42)"
   ]
  },
  {
   "cell_type": "code",
   "execution_count": 7,
   "metadata": {},
   "outputs": [],
   "source": [
    "kfold = KFold(n_splits= 10, shuffle= True, random_state= 42)"
   ]
  },
  {
   "cell_type": "code",
   "execution_count": 8,
   "metadata": {},
   "outputs": [],
   "source": [
    "svc = SVC(kernel='rbf')"
   ]
  },
  {
   "cell_type": "code",
   "execution_count": 9,
   "metadata": {},
   "outputs": [],
   "source": [
    "pipe = Pipeline([('scaler', MinMaxScaler()), ('svc', svc)])"
   ]
  },
  {
   "cell_type": "code",
   "execution_count": 10,
   "metadata": {},
   "outputs": [],
   "source": [
    "gs = GridSearchCV(estimator= pipe, param_grid= hyperparameters, cv= 5, n_jobs=-1)"
   ]
  },
  {
   "cell_type": "code",
   "execution_count": 11,
   "metadata": {},
   "outputs": [
    {
     "data": {
      "text/html": [
       "<style>#sk-container-id-1 {color: black;background-color: white;}#sk-container-id-1 pre{padding: 0;}#sk-container-id-1 div.sk-toggleable {background-color: white;}#sk-container-id-1 label.sk-toggleable__label {cursor: pointer;display: block;width: 100%;margin-bottom: 0;padding: 0.3em;box-sizing: border-box;text-align: center;}#sk-container-id-1 label.sk-toggleable__label-arrow:before {content: \"▸\";float: left;margin-right: 0.25em;color: #696969;}#sk-container-id-1 label.sk-toggleable__label-arrow:hover:before {color: black;}#sk-container-id-1 div.sk-estimator:hover label.sk-toggleable__label-arrow:before {color: black;}#sk-container-id-1 div.sk-toggleable__content {max-height: 0;max-width: 0;overflow: hidden;text-align: left;background-color: #f0f8ff;}#sk-container-id-1 div.sk-toggleable__content pre {margin: 0.2em;color: black;border-radius: 0.25em;background-color: #f0f8ff;}#sk-container-id-1 input.sk-toggleable__control:checked~div.sk-toggleable__content {max-height: 200px;max-width: 100%;overflow: auto;}#sk-container-id-1 input.sk-toggleable__control:checked~label.sk-toggleable__label-arrow:before {content: \"▾\";}#sk-container-id-1 div.sk-estimator input.sk-toggleable__control:checked~label.sk-toggleable__label {background-color: #d4ebff;}#sk-container-id-1 div.sk-label input.sk-toggleable__control:checked~label.sk-toggleable__label {background-color: #d4ebff;}#sk-container-id-1 input.sk-hidden--visually {border: 0;clip: rect(1px 1px 1px 1px);clip: rect(1px, 1px, 1px, 1px);height: 1px;margin: -1px;overflow: hidden;padding: 0;position: absolute;width: 1px;}#sk-container-id-1 div.sk-estimator {font-family: monospace;background-color: #f0f8ff;border: 1px dotted black;border-radius: 0.25em;box-sizing: border-box;margin-bottom: 0.5em;}#sk-container-id-1 div.sk-estimator:hover {background-color: #d4ebff;}#sk-container-id-1 div.sk-parallel-item::after {content: \"\";width: 100%;border-bottom: 1px solid gray;flex-grow: 1;}#sk-container-id-1 div.sk-label:hover label.sk-toggleable__label {background-color: #d4ebff;}#sk-container-id-1 div.sk-serial::before {content: \"\";position: absolute;border-left: 1px solid gray;box-sizing: border-box;top: 0;bottom: 0;left: 50%;z-index: 0;}#sk-container-id-1 div.sk-serial {display: flex;flex-direction: column;align-items: center;background-color: white;padding-right: 0.2em;padding-left: 0.2em;position: relative;}#sk-container-id-1 div.sk-item {position: relative;z-index: 1;}#sk-container-id-1 div.sk-parallel {display: flex;align-items: stretch;justify-content: center;background-color: white;position: relative;}#sk-container-id-1 div.sk-item::before, #sk-container-id-1 div.sk-parallel-item::before {content: \"\";position: absolute;border-left: 1px solid gray;box-sizing: border-box;top: 0;bottom: 0;left: 50%;z-index: -1;}#sk-container-id-1 div.sk-parallel-item {display: flex;flex-direction: column;z-index: 1;position: relative;background-color: white;}#sk-container-id-1 div.sk-parallel-item:first-child::after {align-self: flex-end;width: 50%;}#sk-container-id-1 div.sk-parallel-item:last-child::after {align-self: flex-start;width: 50%;}#sk-container-id-1 div.sk-parallel-item:only-child::after {width: 0;}#sk-container-id-1 div.sk-dashed-wrapped {border: 1px dashed gray;margin: 0 0.4em 0.5em 0.4em;box-sizing: border-box;padding-bottom: 0.4em;background-color: white;}#sk-container-id-1 div.sk-label label {font-family: monospace;font-weight: bold;display: inline-block;line-height: 1.2em;}#sk-container-id-1 div.sk-label-container {text-align: center;}#sk-container-id-1 div.sk-container {/* jupyter's `normalize.less` sets `[hidden] { display: none; }` but bootstrap.min.css set `[hidden] { display: none !important; }` so we also need the `!important` here to be able to override the default hidden behavior on the sphinx rendered scikit-learn.org. See: https://github.com/scikit-learn/scikit-learn/issues/21755 */display: inline-block !important;position: relative;}#sk-container-id-1 div.sk-text-repr-fallback {display: none;}</style><div id=\"sk-container-id-1\" class=\"sk-top-container\"><div class=\"sk-text-repr-fallback\"><pre>GridSearchCV(cv=5,\n",
       "             estimator=Pipeline(steps=[(&#x27;scaler&#x27;, MinMaxScaler()),\n",
       "                                       (&#x27;svc&#x27;, SVC())]),\n",
       "             n_jobs=-1,\n",
       "             param_grid={&#x27;svc__C&#x27;: [0.5, 2, 8, 32],\n",
       "                         &#x27;svc__gamma&#x27;: [0.0078125, 0.03125, 0.125, 0.5],\n",
       "                         &#x27;svc__kernel&#x27;: [&#x27;rbf&#x27;]})</pre><b>In a Jupyter environment, please rerun this cell to show the HTML representation or trust the notebook. <br />On GitHub, the HTML representation is unable to render, please try loading this page with nbviewer.org.</b></div><div class=\"sk-container\" hidden><div class=\"sk-item sk-dashed-wrapped\"><div class=\"sk-label-container\"><div class=\"sk-label sk-toggleable\"><input class=\"sk-toggleable__control sk-hidden--visually\" id=\"sk-estimator-id-1\" type=\"checkbox\" ><label for=\"sk-estimator-id-1\" class=\"sk-toggleable__label sk-toggleable__label-arrow\">GridSearchCV</label><div class=\"sk-toggleable__content\"><pre>GridSearchCV(cv=5,\n",
       "             estimator=Pipeline(steps=[(&#x27;scaler&#x27;, MinMaxScaler()),\n",
       "                                       (&#x27;svc&#x27;, SVC())]),\n",
       "             n_jobs=-1,\n",
       "             param_grid={&#x27;svc__C&#x27;: [0.5, 2, 8, 32],\n",
       "                         &#x27;svc__gamma&#x27;: [0.0078125, 0.03125, 0.125, 0.5],\n",
       "                         &#x27;svc__kernel&#x27;: [&#x27;rbf&#x27;]})</pre></div></div></div><div class=\"sk-parallel\"><div class=\"sk-parallel-item\"><div class=\"sk-item\"><div class=\"sk-label-container\"><div class=\"sk-label sk-toggleable\"><input class=\"sk-toggleable__control sk-hidden--visually\" id=\"sk-estimator-id-2\" type=\"checkbox\" ><label for=\"sk-estimator-id-2\" class=\"sk-toggleable__label sk-toggleable__label-arrow\">estimator: Pipeline</label><div class=\"sk-toggleable__content\"><pre>Pipeline(steps=[(&#x27;scaler&#x27;, MinMaxScaler()), (&#x27;svc&#x27;, SVC())])</pre></div></div></div><div class=\"sk-serial\"><div class=\"sk-item\"><div class=\"sk-serial\"><div class=\"sk-item\"><div class=\"sk-estimator sk-toggleable\"><input class=\"sk-toggleable__control sk-hidden--visually\" id=\"sk-estimator-id-3\" type=\"checkbox\" ><label for=\"sk-estimator-id-3\" class=\"sk-toggleable__label sk-toggleable__label-arrow\">MinMaxScaler</label><div class=\"sk-toggleable__content\"><pre>MinMaxScaler()</pre></div></div></div><div class=\"sk-item\"><div class=\"sk-estimator sk-toggleable\"><input class=\"sk-toggleable__control sk-hidden--visually\" id=\"sk-estimator-id-4\" type=\"checkbox\" ><label for=\"sk-estimator-id-4\" class=\"sk-toggleable__label sk-toggleable__label-arrow\">SVC</label><div class=\"sk-toggleable__content\"><pre>SVC()</pre></div></div></div></div></div></div></div></div></div></div></div></div>"
      ],
      "text/plain": [
       "GridSearchCV(cv=5,\n",
       "             estimator=Pipeline(steps=[('scaler', MinMaxScaler()),\n",
       "                                       ('svc', SVC())]),\n",
       "             n_jobs=-1,\n",
       "             param_grid={'svc__C': [0.5, 2, 8, 32],\n",
       "                         'svc__gamma': [0.0078125, 0.03125, 0.125, 0.5],\n",
       "                         'svc__kernel': ['rbf']})"
      ]
     },
     "execution_count": 11,
     "metadata": {},
     "output_type": "execute_result"
    }
   ],
   "source": [
    "gs.fit(train_attributes, train_targets)"
   ]
  },
  {
   "cell_type": "code",
   "execution_count": 12,
   "metadata": {},
   "outputs": [
    {
     "data": {
      "text/plain": [
       "0.8075"
      ]
     },
     "execution_count": 12,
     "metadata": {},
     "output_type": "execute_result"
    }
   ],
   "source": [
    "gs.score(test_attributes, test_targets)"
   ]
  },
  {
   "cell_type": "code",
   "execution_count": 13,
   "metadata": {},
   "outputs": [
    {
     "data": {
      "text/html": [
       "<div>\n",
       "<style scoped>\n",
       "    .dataframe tbody tr th:only-of-type {\n",
       "        vertical-align: middle;\n",
       "    }\n",
       "\n",
       "    .dataframe tbody tr th {\n",
       "        vertical-align: top;\n",
       "    }\n",
       "\n",
       "    .dataframe thead th {\n",
       "        text-align: right;\n",
       "    }\n",
       "</style>\n",
       "<table border=\"1\" class=\"dataframe\">\n",
       "  <thead>\n",
       "    <tr style=\"text-align: right;\">\n",
       "      <th></th>\n",
       "      <th>mean_fit_time</th>\n",
       "      <th>std_fit_time</th>\n",
       "      <th>mean_score_time</th>\n",
       "      <th>std_score_time</th>\n",
       "      <th>param_svc__C</th>\n",
       "      <th>param_svc__gamma</th>\n",
       "      <th>param_svc__kernel</th>\n",
       "      <th>params</th>\n",
       "      <th>split0_test_score</th>\n",
       "      <th>split1_test_score</th>\n",
       "      <th>split2_test_score</th>\n",
       "      <th>split3_test_score</th>\n",
       "      <th>split4_test_score</th>\n",
       "      <th>mean_test_score</th>\n",
       "      <th>std_test_score</th>\n",
       "      <th>rank_test_score</th>\n",
       "    </tr>\n",
       "  </thead>\n",
       "  <tbody>\n",
       "    <tr>\n",
       "      <th>0</th>\n",
       "      <td>0.133262</td>\n",
       "      <td>0.005147</td>\n",
       "      <td>0.072617</td>\n",
       "      <td>0.009573</td>\n",
       "      <td>0.5</td>\n",
       "      <td>0.007812</td>\n",
       "      <td>rbf</td>\n",
       "      <td>{'svc__C': 0.5, 'svc__gamma': 0.0078125, 'svc_...</td>\n",
       "      <td>0.509375</td>\n",
       "      <td>0.506250</td>\n",
       "      <td>0.506250</td>\n",
       "      <td>0.506250</td>\n",
       "      <td>0.507837</td>\n",
       "      <td>0.507192</td>\n",
       "      <td>0.001252</td>\n",
       "      <td>16</td>\n",
       "    </tr>\n",
       "    <tr>\n",
       "      <th>1</th>\n",
       "      <td>0.119570</td>\n",
       "      <td>0.008321</td>\n",
       "      <td>0.068245</td>\n",
       "      <td>0.001950</td>\n",
       "      <td>0.5</td>\n",
       "      <td>0.03125</td>\n",
       "      <td>rbf</td>\n",
       "      <td>{'svc__C': 0.5, 'svc__gamma': 0.03125, 'svc__k...</td>\n",
       "      <td>0.793750</td>\n",
       "      <td>0.834375</td>\n",
       "      <td>0.812500</td>\n",
       "      <td>0.815625</td>\n",
       "      <td>0.793103</td>\n",
       "      <td>0.809871</td>\n",
       "      <td>0.015372</td>\n",
       "      <td>14</td>\n",
       "    </tr>\n",
       "    <tr>\n",
       "      <th>2</th>\n",
       "      <td>0.111688</td>\n",
       "      <td>0.010000</td>\n",
       "      <td>0.059081</td>\n",
       "      <td>0.004137</td>\n",
       "      <td>0.5</td>\n",
       "      <td>0.125</td>\n",
       "      <td>rbf</td>\n",
       "      <td>{'svc__C': 0.5, 'svc__gamma': 0.125, 'svc__ker...</td>\n",
       "      <td>0.818750</td>\n",
       "      <td>0.840625</td>\n",
       "      <td>0.831250</td>\n",
       "      <td>0.856250</td>\n",
       "      <td>0.836991</td>\n",
       "      <td>0.836773</td>\n",
       "      <td>0.012244</td>\n",
       "      <td>11</td>\n",
       "    </tr>\n",
       "    <tr>\n",
       "      <th>3</th>\n",
       "      <td>0.083228</td>\n",
       "      <td>0.007869</td>\n",
       "      <td>0.040518</td>\n",
       "      <td>0.002459</td>\n",
       "      <td>0.5</td>\n",
       "      <td>0.5</td>\n",
       "      <td>rbf</td>\n",
       "      <td>{'svc__C': 0.5, 'svc__gamma': 0.5, 'svc__kerne...</td>\n",
       "      <td>0.834375</td>\n",
       "      <td>0.831250</td>\n",
       "      <td>0.834375</td>\n",
       "      <td>0.875000</td>\n",
       "      <td>0.840125</td>\n",
       "      <td>0.843025</td>\n",
       "      <td>0.016243</td>\n",
       "      <td>7</td>\n",
       "    </tr>\n",
       "    <tr>\n",
       "      <th>4</th>\n",
       "      <td>0.112800</td>\n",
       "      <td>0.007897</td>\n",
       "      <td>0.068292</td>\n",
       "      <td>0.006125</td>\n",
       "      <td>2</td>\n",
       "      <td>0.007812</td>\n",
       "      <td>rbf</td>\n",
       "      <td>{'svc__C': 2, 'svc__gamma': 0.0078125, 'svc__k...</td>\n",
       "      <td>0.793750</td>\n",
       "      <td>0.831250</td>\n",
       "      <td>0.812500</td>\n",
       "      <td>0.815625</td>\n",
       "      <td>0.793103</td>\n",
       "      <td>0.809246</td>\n",
       "      <td>0.014396</td>\n",
       "      <td>15</td>\n",
       "    </tr>\n",
       "  </tbody>\n",
       "</table>\n",
       "</div>"
      ],
      "text/plain": [
       "   mean_fit_time  std_fit_time  mean_score_time  std_score_time param_svc__C  \\\n",
       "0       0.133262      0.005147         0.072617        0.009573          0.5   \n",
       "1       0.119570      0.008321         0.068245        0.001950          0.5   \n",
       "2       0.111688      0.010000         0.059081        0.004137          0.5   \n",
       "3       0.083228      0.007869         0.040518        0.002459          0.5   \n",
       "4       0.112800      0.007897         0.068292        0.006125            2   \n",
       "\n",
       "  param_svc__gamma param_svc__kernel  \\\n",
       "0         0.007812               rbf   \n",
       "1          0.03125               rbf   \n",
       "2            0.125               rbf   \n",
       "3              0.5               rbf   \n",
       "4         0.007812               rbf   \n",
       "\n",
       "                                              params  split0_test_score  \\\n",
       "0  {'svc__C': 0.5, 'svc__gamma': 0.0078125, 'svc_...           0.509375   \n",
       "1  {'svc__C': 0.5, 'svc__gamma': 0.03125, 'svc__k...           0.793750   \n",
       "2  {'svc__C': 0.5, 'svc__gamma': 0.125, 'svc__ker...           0.818750   \n",
       "3  {'svc__C': 0.5, 'svc__gamma': 0.5, 'svc__kerne...           0.834375   \n",
       "4  {'svc__C': 2, 'svc__gamma': 0.0078125, 'svc__k...           0.793750   \n",
       "\n",
       "   split1_test_score  split2_test_score  split3_test_score  split4_test_score  \\\n",
       "0           0.506250           0.506250           0.506250           0.507837   \n",
       "1           0.834375           0.812500           0.815625           0.793103   \n",
       "2           0.840625           0.831250           0.856250           0.836991   \n",
       "3           0.831250           0.834375           0.875000           0.840125   \n",
       "4           0.831250           0.812500           0.815625           0.793103   \n",
       "\n",
       "   mean_test_score  std_test_score  rank_test_score  \n",
       "0         0.507192        0.001252               16  \n",
       "1         0.809871        0.015372               14  \n",
       "2         0.836773        0.012244               11  \n",
       "3         0.843025        0.016243                7  \n",
       "4         0.809246        0.014396               15  "
      ]
     },
     "execution_count": 13,
     "metadata": {},
     "output_type": "execute_result"
    }
   ],
   "source": [
    "cv_results = pd.DataFrame(gs.cv_results_)\n",
    "cv_results.head()"
   ]
  },
  {
   "cell_type": "code",
   "execution_count": 14,
   "metadata": {},
   "outputs": [],
   "source": [
    "best_model = gs.best_estimator_\n",
    "best_model.fit(train_attributes, train_targets)\n",
    "\n",
    "\n",
    "prediction = best_model.predict(test_attributes)"
   ]
  },
  {
   "cell_type": "code",
   "execution_count": 15,
   "metadata": {},
   "outputs": [
    {
     "data": {
      "text/plain": [
       "(array([0.       , 0.1745283, 1.       ]),\n",
       " array([0.        , 0.78723404, 1.        ]),\n",
       " array([2., 1., 0.]))"
      ]
     },
     "execution_count": 15,
     "metadata": {},
     "output_type": "execute_result"
    }
   ],
   "source": [
    "roc = roc_curve(test_targets, prediction)\n",
    "roc"
   ]
  },
  {
   "cell_type": "code",
   "execution_count": 16,
   "metadata": {},
   "outputs": [
    {
     "data": {
      "text/plain": [
       "0.8"
      ]
     },
     "execution_count": 16,
     "metadata": {},
     "output_type": "execute_result"
    }
   ],
   "source": [
    "prec = precision_score(test_targets, prediction)\n",
    "prec"
   ]
  },
  {
   "cell_type": "code",
   "execution_count": 17,
   "metadata": {},
   "outputs": [
    {
     "data": {
      "text/plain": [
       "0.7935656836461126"
      ]
     },
     "execution_count": 17,
     "metadata": {},
     "output_type": "execute_result"
    }
   ],
   "source": [
    "f1 = f1_score(test_targets, prediction)\n",
    "f1"
   ]
  },
  {
   "cell_type": "code",
   "execution_count": 18,
   "metadata": {},
   "outputs": [],
   "source": [
    "from sklearn.metrics import RocCurveDisplay, PrecisionRecallDisplay\n",
    "\n",
    "metrics = [\n",
    "    [None, None, None, None],\n",
    "    [None, None, None, None]\n",
    "]"
   ]
  }
 ],
 "metadata": {
  "kernelspec": {
   "display_name": "MachineLearning",
   "language": "python",
   "name": "python3"
  },
  "language_info": {
   "codemirror_mode": {
    "name": "ipython",
    "version": 3
   },
   "file_extension": ".py",
   "mimetype": "text/x-python",
   "name": "python",
   "nbconvert_exporter": "python",
   "pygments_lexer": "ipython3",
   "version": "3.11.2"
  },
  "orig_nbformat": 4
 },
 "nbformat": 4,
 "nbformat_minor": 2
}
