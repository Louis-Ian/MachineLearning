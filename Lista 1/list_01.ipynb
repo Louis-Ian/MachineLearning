{
 "cells": [
  {
   "attachments": {},
   "cell_type": "markdown",
   "metadata": {},
   "source": [
    "# Lista 1"
   ]
  },
  {
   "attachments": {},
   "cell_type": "markdown",
   "metadata": {},
   "source": [
    "### `Questão 1`\n",
    "Considere o conjunto de dados disponível em `artificial1d.csv` organizado em\n",
    "duas colunas, `x` e `y`.\n",
    "\n",
    "Seja um modelo de regressão linear\n",
    "\n",
    "$$\\begin{aligned}\n",
    "\\hat{y} = f(x).\n",
    "\\end{aligned}$$"
   ]
  },
  {
   "cell_type": "code",
   "execution_count": 24,
   "metadata": {},
   "outputs": [],
   "source": [
    "import numpy as np\n",
    "import matplotlib as mpl\n",
    "import matplotlib.pyplot as plt"
   ]
  },
  {
   "cell_type": "code",
   "execution_count": 2,
   "metadata": {},
   "outputs": [
    {
     "data": {
      "text/plain": [
       "array([[-1.        , -2.08201726],\n",
       "       [-0.93103448, -1.32698023],\n",
       "       [-0.86206897, -1.10559772],\n",
       "       [-0.79310345, -0.87394576],\n",
       "       [-0.72413793, -0.28502695],\n",
       "       [-0.65517241, -0.43115252],\n",
       "       [-0.5862069 , -0.79475402],\n",
       "       [-0.51724138, -0.88606806],\n",
       "       [-0.44827586, -0.89989978],\n",
       "       [-0.37931034, -0.86184365],\n",
       "       [-0.31034483, -0.88805183],\n",
       "       [-0.24137931, -1.23595129],\n",
       "       [-0.17241379, -0.71956827],\n",
       "       [-0.10344828, -0.45202286],\n",
       "       [-0.03448276,  0.09889951],\n",
       "       [ 0.03448276,  0.34896973],\n",
       "       [ 0.10344828,  0.09747797],\n",
       "       [ 0.17241379,  0.70019809],\n",
       "       [ 0.24137931,  1.31051213],\n",
       "       [ 0.31034483,  1.00177576],\n",
       "       [ 0.37931034,  1.00318231],\n",
       "       [ 0.44827586,  1.14910129],\n",
       "       [ 0.51724138,  1.59220607],\n",
       "       [ 0.5862069 ,  0.60909009],\n",
       "       [ 0.65517241,  0.59441623],\n",
       "       [ 0.72413793,  0.70300732],\n",
       "       [ 0.79310345,  0.82332241],\n",
       "       [ 0.86206897,  1.10646439],\n",
       "       [ 0.93103448,  1.42295695],\n",
       "       [ 1.        ,  2.30983768]])"
      ]
     },
     "execution_count": 2,
     "metadata": {},
     "output_type": "execute_result"
    }
   ],
   "source": [
    "artificial_data = np.loadtxt('./artificial1d.csv', delimiter=',')\n",
    "artificial_data"
   ]
  },
  {
   "attachments": {},
   "cell_type": "markdown",
   "metadata": {},
   "source": [
    "## `OLS (mínimos quadrados ordinários)`"
   ]
  },
  {
   "cell_type": "code",
   "execution_count": 202,
   "metadata": {},
   "outputs": [],
   "source": [
    "def mse_ols(x, w, y):\n",
    "    pred = x @ w\n",
    "    error = y - pred\n",
    "    mse = (error ** 2).mean()\n",
    "\n",
    "    return mse\n",
    "\n",
    "def rmse_ols(x, w, y):\n",
    "    return np.sqrt(mse_ols(x, w, y))"
   ]
  },
  {
   "cell_type": "code",
   "execution_count": 203,
   "metadata": {},
   "outputs": [],
   "source": [
    "def ols(x, y):\n",
    "    # Entradas do modelo\n",
    "    X = x\n",
    "\n",
    "    # Saída do modelo\n",
    "    Y = y\n",
    "\n",
    "    # Adicionando uma coluna de 1's para o termo independente\n",
    "    X = np.hstack((np.ones((X.shape[0], 1)), X))\n",
    "\n",
    "    # Forma literal de calcular w\n",
    "    # w_ols = np.linalg.inv(X.T @ X) @ X.T @ y\n",
    "\n",
    "    # Forma mais eficiente de calcular w, pois não é necessário calcular a inversa de X.T @ X\n",
    "    w_ols = np.linalg.solve(X.T @ X, X.T @ y)\n",
    "\n",
    "    # Calculando o RMSE\n",
    "    pred = X @ w_ols\n",
    "    # rmse = np.sqrt(((y - pred) ** 2).sum(axis = 0) / (y.shape[0]))\n",
    "    rmse = rmse_ols(X, w_ols, Y)\n",
    "    \n",
    "    return w_ols, rmse"
   ]
  },
  {
   "cell_type": "code",
   "execution_count": 204,
   "metadata": {},
   "outputs": [
    {
     "data": {
      "text/plain": [
       "(30, 1)"
      ]
     },
     "execution_count": 204,
     "metadata": {},
     "output_type": "execute_result"
    }
   ],
   "source": [
    "x_artificial_data = artificial_data[:, :-1]\n",
    "x_artificial_data.shape"
   ]
  },
  {
   "cell_type": "code",
   "execution_count": 205,
   "metadata": {},
   "outputs": [
    {
     "data": {
      "text/plain": [
       "(30, 1)"
      ]
     },
     "execution_count": 205,
     "metadata": {},
     "output_type": "execute_result"
    }
   ],
   "source": [
    "y_artificial_data = artificial_data[:, [-1]]\n",
    "y_artificial_data.shape"
   ]
  },
  {
   "cell_type": "code",
   "execution_count": 206,
   "metadata": {},
   "outputs": [],
   "source": [
    "w_artificial_data_ols, rmse_artificial_data_ols = ols(x_artificial_data, y_artificial_data)"
   ]
  },
  {
   "attachments": {},
   "cell_type": "markdown",
   "metadata": {},
   "source": [
    "### Parâmetros do modelo e **MSE (Erro Quadrático Médio)** obitidos pelo algoritmo"
   ]
  },
  {
   "cell_type": "code",
   "execution_count": 207,
   "metadata": {},
   "outputs": [
    {
     "name": "stdout",
     "output_type": "stream",
     "text": [
      "Parâmetros OLS: W0: 0.06761792463834032, W1: 1.5748651690368318\n"
     ]
    }
   ],
   "source": [
    "print(f\"Parâmetros OLS: W0: {w_artificial_data_ols[0][0]}, W1: {w_artificial_data_ols[1][0]}\")"
   ]
  },
  {
   "cell_type": "code",
   "execution_count": 211,
   "metadata": {},
   "outputs": [
    {
     "name": "stdout",
     "output_type": "stream",
     "text": [
      "MSE OLS: 0.461953354062258\n"
     ]
    }
   ],
   "source": [
    "print(f\"MSE OLS: {rmse_artificial_data_ols}\")"
   ]
  },
  {
   "attachments": {},
   "cell_type": "markdown",
   "metadata": {},
   "source": [
    "### Plote da reta resultante sobre os dados"
   ]
  },
  {
   "cell_type": "code",
   "execution_count": 212,
   "metadata": {},
   "outputs": [
    {
     "data": {
      "image/png": "[encoded data removed]",
      "text/plain": [
       "<Figure size 640x480 with 1 Axes>"
      ]
     },
     "metadata": {},
     "output_type": "display_data"
    }
   ],
   "source": [
    "fig, ax = plt.subplots()\n",
    "\n",
    "x_range_ols = np.linspace(x_artificial_data.min(), x_artificial_data.max())\n",
    "y_range_ols = w_artificial_data_ols[0] + w_artificial_data_ols[1] * x_range_ols\n",
    "\n",
    "ax.set_title(\"OLS Regression\")\n",
    "ax.set_ylabel(\"Y-Axis\")\n",
    "ax.set_xlabel(\"X-Axis\")\n",
    "\n",
    "ax.scatter(x_artificial_data, y_artificial_data, color='blue', marker='o', linestyle='')\n",
    "ax.plot(x_range_ols, y_range_ols, color='red')\n",
    "\n",
    "for i in range(len(x_artificial_data)):\n",
    "    ax.plot([x_artificial_data[i], x_artificial_data[i]], [y_artificial_data[i], w_artificial_data_ols[0] + w_artificial_data_ols[1] * x_artificial_data[i]], linewidth='0.3')\n",
    "\n",
    "plt.show()"
   ]
  },
  {
   "attachments": {},
   "cell_type": "markdown",
   "metadata": {},
   "source": [
    "## `GD - Gradiente Descendente`"
   ]
  },
  {
   "cell_type": "code",
   "execution_count": 217,
   "metadata": {},
   "outputs": [],
   "source": [
    "def mse_gd(x, w, y):\n",
    "    pred = x @ w\n",
    "    error = y - pred\n",
    "    mse = (error ** 2).mean()\n",
    "    mse1 = (error ** 2).sum() / error.shape[0]\n",
    "    print(f'mse: {mse}')\n",
    "    print(f'mse 1: {mse}')\n",
    "\n",
    "    return mse"
   ]
  },
  {
   "cell_type": "code",
   "execution_count": 228,
   "metadata": {},
   "outputs": [],
   "source": [
    "# Gradiente descendente\n",
    "def gd(x, y, alpha = 0.0001, max_iterations = 100000, stopping_error = 1e-10):\n",
    "    # Importando features e saídisplay\n",
    "    X = x\n",
    "    Y = y\n",
    "\n",
    "    # Inicializando os pesos\n",
    "    w_gd = np.ones((3, 1))\n",
    "\n",
    "    # Taxa de aprendizado\n",
    "    # alpha = 0.00001\n",
    "\n",
    "    # Número máximo de iterações\n",
    "    # max_iterations = 100000\n",
    "\n",
    "    errors_list_gd = np.empty(shape = (1))\n",
    "    mse_list_gd = np.empty(shape = (1))\n",
    "\n",
    "    # Gradiente descendente\n",
    "    for iter in range(max_iterations):\n",
    "\n",
    "        # Calculando e registrando o erro\n",
    "        pred_gd = X @ w_gd.T\n",
    "        error_gd = Y - pred_gd\n",
    "        np.append(errors_list_gd, error_gd)\n",
    "\n",
    "        # Calculando e registrando o MSE\n",
    "        mse = mse_gd(X, w_gd, Y)\n",
    "        np.append(mse_list_gd, mse)\n",
    "\n",
    "        # Atualizando os pesos\n",
    "        # shapes: (3, 1) -> (3, 1) + a * (44, 1) * (44, 1)\n",
    "        w_gd = w_gd + alpha * error_gd.mean(axis = 0) * X.mean(axis = 0, keepdims=True).T\n",
    "\n",
    "        # Calculando os pesos indice a indice. Mesmo resultado que o código acima, mas de mais fácil entendimento\n",
    "        # w_gd[0] = w_gd[0] + alpha * error_gd.mean(axis = 0)\n",
    "        # w_gd[1] = w_gd[1] + alpha * error_gd.mean(axis = 0) * X[:,[1]].mean(axis = 0)\n",
    "        # w_gd[2] = w_gd[2] + alpha * error_gd.mean(axis = 0) * X[:,[2]].mean(axis = 0)\n",
    "\n",
    "        # Parar caso o erro esteja abaixo do mínimo aceitável\n",
    "        # if(mse < stopping_error):\n",
    "        #     print(f'GD encerrado precocemente pois os erros estão baixos o suficiente')\n",
    "        #     break\n",
    "    \n",
    "    return w_gd, mse_gd(x, w_gd, y), errors_list_gd, mse_list_gd"
   ]
  },
  {
   "cell_type": "code",
   "execution_count": 232,
   "metadata": {},
   "outputs": [
    {
     "data": {
      "text/plain": [
       "(30, 1)"
      ]
     },
     "execution_count": 232,
     "metadata": {},
     "output_type": "execute_result"
    }
   ],
   "source": [
    "x_artificial_data.shape"
   ]
  },
  {
   "cell_type": "code",
   "execution_count": 230,
   "metadata": {},
   "outputs": [
    {
     "ename": "ValueError",
     "evalue": "matmul: Input operand 1 has a mismatch in its core dimension 0, with gufunc signature (n?,k),(k,m?)->(n?,m?) (size 3 is different from 1)",
     "output_type": "error",
     "traceback": [
      "\u001b[0;31m---------------------------------------------------------------------------\u001b[0m",
      "\u001b[0;31mValueError\u001b[0m                                Traceback (most recent call last)",
      "Cell \u001b[0;32mIn[230], line 1\u001b[0m\n\u001b[0;32m----> 1\u001b[0m w_artificial_data_gd,  rmse_artificial_data_gd \u001b[39m=\u001b[39m gd(x_artificial_data, y_artificial_data)\n",
      "Cell \u001b[0;32mIn[228], line 28\u001b[0m, in \u001b[0;36mgd\u001b[0;34m(x, y, alpha, max_iterations, stopping_error)\u001b[0m\n\u001b[1;32m     25\u001b[0m np\u001b[39m.\u001b[39mappend(errors_list_gd, error_gd)\n\u001b[1;32m     27\u001b[0m \u001b[39m# Calculando e registrando o MSE\u001b[39;00m\n\u001b[0;32m---> 28\u001b[0m mse \u001b[39m=\u001b[39m mse_gd(X, w_gd, Y)\n\u001b[1;32m     29\u001b[0m np\u001b[39m.\u001b[39mappend(mse_list_gd, mse)\n\u001b[1;32m     31\u001b[0m \u001b[39m# Atualizando os pesos\u001b[39;00m\n\u001b[1;32m     32\u001b[0m \u001b[39m# shapes: (3, 1) -> (3, 1) + a * (44, 1) * (44, 1)\u001b[39;00m\n",
      "Cell \u001b[0;32mIn[217], line 2\u001b[0m, in \u001b[0;36mmse_gd\u001b[0;34m(x, w, y)\u001b[0m\n\u001b[1;32m      1\u001b[0m \u001b[39mdef\u001b[39;00m \u001b[39mmse_gd\u001b[39m(x, w, y):\n\u001b[0;32m----> 2\u001b[0m     pred \u001b[39m=\u001b[39m x \u001b[39m@\u001b[39;49m w\n\u001b[1;32m      3\u001b[0m     error \u001b[39m=\u001b[39m y \u001b[39m-\u001b[39m pred\n\u001b[1;32m      4\u001b[0m     mse \u001b[39m=\u001b[39m (error \u001b[39m*\u001b[39m\u001b[39m*\u001b[39m \u001b[39m2\u001b[39m)\u001b[39m.\u001b[39mmean()\n",
      "\u001b[0;31mValueError\u001b[0m: matmul: Input operand 1 has a mismatch in its core dimension 0, with gufunc signature (n?,k),(k,m?)->(n?,m?) (size 3 is different from 1)"
     ]
    }
   ],
   "source": [
    "w_artificial_data_gd,  rmse_artificial_data_gd = gd(x_artificial_data, y_artificial_data)"
   ]
  }
 ],
 "metadata": {
  "kernelspec": {
   "display_name": "MachineLearning",
   "language": "python",
   "name": "python3"
  },
  "language_info": {
   "codemirror_mode": {
    "name": "ipython",
    "version": 3
   },
   "file_extension": ".py",
   "mimetype": "text/x-python",
   "name": "python",
   "nbconvert_exporter": "python",
   "pygments_lexer": "ipython3",
   "version": "3.10.10"
  },
  "orig_nbformat": 4
 },
 "nbformat": 4,
 "nbformat_minor": 2
}
