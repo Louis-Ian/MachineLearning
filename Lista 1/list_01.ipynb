{
 "cells": [
  {
   "attachments": {},
   "cell_type": "markdown",
   "metadata": {},
   "source": [
    "# Lista 1"
   ]
  },
  {
   "attachments": {},
   "cell_type": "markdown",
   "metadata": {},
   "source": [
    "### `Questão 1`\n",
    "Considere o conjunto de dados disponível em `artificial1d.csv` organizado em\n",
    "duas colunas, `x` e `y`.\n",
    "\n",
    "Seja um modelo de regressão linear\n",
    "\n",
    "$$\\begin{aligned}\n",
    "\\hat{y} = f(x).\n",
    "\\end{aligned}$$"
   ]
  },
  {
   "cell_type": "code",
   "execution_count": 1,
   "metadata": {},
   "outputs": [],
   "source": [
    "import numpy as np\n",
    "import matplotlib as plt"
   ]
  },
  {
   "cell_type": "code",
   "execution_count": 4,
   "metadata": {},
   "outputs": [
    {
     "data": {
      "text/plain": [
       "array([[-1.        , -2.08201726],\n",
       "       [-0.93103448, -1.32698023],\n",
       "       [-0.86206897, -1.10559772],\n",
       "       [-0.79310345, -0.87394576],\n",
       "       [-0.72413793, -0.28502695],\n",
       "       [-0.65517241, -0.43115252],\n",
       "       [-0.5862069 , -0.79475402],\n",
       "       [-0.51724138, -0.88606806],\n",
       "       [-0.44827586, -0.89989978],\n",
       "       [-0.37931034, -0.86184365],\n",
       "       [-0.31034483, -0.88805183],\n",
       "       [-0.24137931, -1.23595129],\n",
       "       [-0.17241379, -0.71956827],\n",
       "       [-0.10344828, -0.45202286],\n",
       "       [-0.03448276,  0.09889951],\n",
       "       [ 0.03448276,  0.34896973],\n",
       "       [ 0.10344828,  0.09747797],\n",
       "       [ 0.17241379,  0.70019809],\n",
       "       [ 0.24137931,  1.31051213],\n",
       "       [ 0.31034483,  1.00177576],\n",
       "       [ 0.37931034,  1.00318231],\n",
       "       [ 0.44827586,  1.14910129],\n",
       "       [ 0.51724138,  1.59220607],\n",
       "       [ 0.5862069 ,  0.60909009],\n",
       "       [ 0.65517241,  0.59441623],\n",
       "       [ 0.72413793,  0.70300732],\n",
       "       [ 0.79310345,  0.82332241],\n",
       "       [ 0.86206897,  1.10646439],\n",
       "       [ 0.93103448,  1.42295695],\n",
       "       [ 1.        ,  2.30983768]])"
      ]
     },
     "execution_count": 4,
     "metadata": {},
     "output_type": "execute_result"
    }
   ],
   "source": [
    "artificial_data = np.loadtxt('./artificial1d.csv', delimiter=',')\n",
    "artificial_data"
   ]
  },
  {
   "cell_type": "code",
   "execution_count": null,
   "metadata": {},
   "outputs": [],
   "source": []
  }
 ],
 "metadata": {
  "kernelspec": {
   "display_name": "MachineLearning",
   "language": "python",
   "name": "python3"
  },
  "language_info": {
   "codemirror_mode": {
    "name": "ipython",
    "version": 3
   },
   "file_extension": ".py",
   "mimetype": "text/x-python",
   "name": "python",
   "nbconvert_exporter": "python",
   "pygments_lexer": "ipython3",
   "version": "3.11.2"
  },
  "orig_nbformat": 4
 },
 "nbformat": 4,
 "nbformat_minor": 2
}
