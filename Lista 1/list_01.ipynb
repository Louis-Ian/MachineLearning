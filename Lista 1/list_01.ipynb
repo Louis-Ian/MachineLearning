{
 "cells": [
  {
   "attachments": {},
   "cell_type": "markdown",
   "metadata": {},
   "source": [
    "# Lista 1"
   ]
  },
  {
   "attachments": {},
   "cell_type": "markdown",
   "metadata": {},
   "source": [
    "### `Questão 1`\n",
    "Considere o conjunto de dados disponível em `artificial1d.csv` organizado em\n",
    "duas colunas, `x` e `y`.\n",
    "\n",
    "Seja um modelo de regressão linear\n",
    "\n",
    "$$\\begin{aligned}\n",
    "\\hat{y} = f(x).\n",
    "\\end{aligned}$$"
   ]
  },
  {
   "cell_type": "code",
   "execution_count": 89,
   "metadata": {},
   "outputs": [],
   "source": [
    "import numpy as np\n",
    "import matplotlib as mpl\n",
    "import matplotlib.pyplot as plt"
   ]
  },
  {
   "cell_type": "code",
   "execution_count": 90,
   "metadata": {},
   "outputs": [
    {
     "data": {
      "text/plain": [
       "array([[-1.        , -2.08201726],\n",
       "       [-0.93103448, -1.32698023],\n",
       "       [-0.86206897, -1.10559772],\n",
       "       [-0.79310345, -0.87394576],\n",
       "       [-0.72413793, -0.28502695],\n",
       "       [-0.65517241, -0.43115252],\n",
       "       [-0.5862069 , -0.79475402],\n",
       "       [-0.51724138, -0.88606806],\n",
       "       [-0.44827586, -0.89989978],\n",
       "       [-0.37931034, -0.86184365],\n",
       "       [-0.31034483, -0.88805183],\n",
       "       [-0.24137931, -1.23595129],\n",
       "       [-0.17241379, -0.71956827],\n",
       "       [-0.10344828, -0.45202286],\n",
       "       [-0.03448276,  0.09889951],\n",
       "       [ 0.03448276,  0.34896973],\n",
       "       [ 0.10344828,  0.09747797],\n",
       "       [ 0.17241379,  0.70019809],\n",
       "       [ 0.24137931,  1.31051213],\n",
       "       [ 0.31034483,  1.00177576],\n",
       "       [ 0.37931034,  1.00318231],\n",
       "       [ 0.44827586,  1.14910129],\n",
       "       [ 0.51724138,  1.59220607],\n",
       "       [ 0.5862069 ,  0.60909009],\n",
       "       [ 0.65517241,  0.59441623],\n",
       "       [ 0.72413793,  0.70300732],\n",
       "       [ 0.79310345,  0.82332241],\n",
       "       [ 0.86206897,  1.10646439],\n",
       "       [ 0.93103448,  1.42295695],\n",
       "       [ 1.        ,  2.30983768]])"
      ]
     },
     "execution_count": 90,
     "metadata": {},
     "output_type": "execute_result"
    }
   ],
   "source": [
    "artificial_data = np.loadtxt('./artificial1d.csv', delimiter=',')\n",
    "artificial_data"
   ]
  },
  {
   "attachments": {},
   "cell_type": "markdown",
   "metadata": {},
   "source": [
    "## `OLS (mínimos quadrados ordinários)`"
   ]
  },
  {
   "cell_type": "code",
   "execution_count": 91,
   "metadata": {},
   "outputs": [],
   "source": [
    "def mse_ols(x: np.ndarray, w: np.ndarray, y: np.ndarray):\n",
    "    pred = x @ w\n",
    "    error = y - pred\n",
    "    mse = (error ** 2).mean()\n",
    "\n",
    "    return mse\n",
    "\n",
    "def rmse_ols(x: np.ndarray, w: np.ndarray, y: np.ndarray):\n",
    "    return np.sqrt(mse_ols(x, w, y))"
   ]
  },
  {
   "cell_type": "code",
   "execution_count": 92,
   "metadata": {},
   "outputs": [],
   "source": [
    "def ols(x: np.ndarray, y: np.ndarray):\n",
    "    # Entradas do modelo\n",
    "    X = x.copy()\n",
    "\n",
    "    # Saída do modelo\n",
    "    Y = y.copy()\n",
    "\n",
    "    # Adicionando uma coluna de 1's para o termo independente\n",
    "    X = np.hstack((np.ones((X.shape[0], 1)), X))\n",
    "\n",
    "    # Forma literal de calcular w\n",
    "    # w_ols = np.linalg.inv(X.T @ X) @ X.T @ y\n",
    "\n",
    "    # Forma mais eficiente de calcular w, pois não é necessário calcular a inversa de X.T @ X\n",
    "    w_ols = np.linalg.solve(X.T @ X, X.T @ y)\n",
    "\n",
    "    # Calculando o MSE\n",
    "    mse = mse_ols(X, w_ols, Y)\n",
    "    \n",
    "    return w_ols, mse"
   ]
  },
  {
   "cell_type": "code",
   "execution_count": 93,
   "metadata": {},
   "outputs": [
    {
     "data": {
      "text/plain": [
       "(30, 1)"
      ]
     },
     "execution_count": 93,
     "metadata": {},
     "output_type": "execute_result"
    }
   ],
   "source": [
    "x_artificial_data = artificial_data[:, :-1]\n",
    "x_artificial_data.shape"
   ]
  },
  {
   "cell_type": "code",
   "execution_count": 94,
   "metadata": {},
   "outputs": [
    {
     "data": {
      "text/plain": [
       "(30, 1)"
      ]
     },
     "execution_count": 94,
     "metadata": {},
     "output_type": "execute_result"
    }
   ],
   "source": [
    "y_artificial_data = artificial_data[:, [-1]]\n",
    "y_artificial_data.shape"
   ]
  },
  {
   "cell_type": "code",
   "execution_count": 95,
   "metadata": {},
   "outputs": [],
   "source": [
    "w_artificial_data_ols, mse_artificial_data_ols = ols(x_artificial_data, y_artificial_data)"
   ]
  },
  {
   "attachments": {},
   "cell_type": "markdown",
   "metadata": {},
   "source": [
    "### Parâmetros do modelo e **MSE (Erro Quadrático Médio)** obitidos pelo algoritmo"
   ]
  },
  {
   "cell_type": "code",
   "execution_count": 96,
   "metadata": {},
   "outputs": [
    {
     "name": "stdout",
     "output_type": "stream",
     "text": [
      "Parâmetros OLS: W0: 0.06761792463834032, W1: 1.5748651690368318\n"
     ]
    }
   ],
   "source": [
    "print(f\"Parâmetros OLS: W0: {w_artificial_data_ols[0][0]}, W1: {w_artificial_data_ols[1][0]}\")"
   ]
  },
  {
   "cell_type": "code",
   "execution_count": 97,
   "metadata": {},
   "outputs": [
    {
     "name": "stdout",
     "output_type": "stream",
     "text": [
      "MSE OLS: 0.21340090132936992\n"
     ]
    }
   ],
   "source": [
    "print(f\"MSE OLS: {mse_artificial_data_ols}\")"
   ]
  },
  {
   "attachments": {},
   "cell_type": "markdown",
   "metadata": {},
   "source": [
    "### Plote da reta resultante sobre os dados"
   ]
  },
  {
   "cell_type": "code",
   "execution_count": 98,
   "metadata": {},
   "outputs": [
    {
     "data": {
      "image/png": "[encoded data removed]",
      "text/plain": [
       "<Figure size 640x480 with 1 Axes>"
      ]
     },
     "metadata": {},
     "output_type": "display_data"
    }
   ],
   "source": [
    "fig, ax = plt.subplots()\n",
    "\n",
    "x_range_ols = np.linspace(x_artificial_data.min(), x_artificial_data.max())\n",
    "y_range_ols = w_artificial_data_ols[0] + w_artificial_data_ols[1] * x_range_ols\n",
    "\n",
    "ax.set_title(\"OLS Regression\")\n",
    "ax.set_ylabel(\"Y-Axis\")\n",
    "ax.set_xlabel(\"X-Axis\")\n",
    "\n",
    "ax.scatter(x_artificial_data, y_artificial_data, color='blue', marker='o', linestyle='')\n",
    "ax.plot(x_range_ols, y_range_ols, color='red')\n",
    "\n",
    "for i in range(len(x_artificial_data)):\n",
    "    ax.plot([x_artificial_data[i], x_artificial_data[i]], [y_artificial_data[i], w_artificial_data_ols[0] + w_artificial_data_ols[1] * x_artificial_data[i]], linewidth='0.3')\n",
    "\n",
    "plt.show()"
   ]
  },
  {
   "attachments": {},
   "cell_type": "markdown",
   "metadata": {},
   "source": [
    "## `GD - Gradiente Descendente`"
   ]
  },
  {
   "cell_type": "code",
   "execution_count": 99,
   "metadata": {},
   "outputs": [],
   "source": [
    "def mse_gd(x: np.ndarray, w: np.ndarray, y: np.ndarray):\n",
    "    pred = x @ w\n",
    "    error = y - pred\n",
    "    mse = (error * error).mean()\n",
    "    # mse1 = (error ** 2).sum() / error.shape[0]\n",
    "    # print(f'mse: {mse}')\n",
    "    # print(f'mse 1: {mse1}')\n",
    "\n",
    "    return mse"
   ]
  },
  {
   "cell_type": "code",
   "execution_count": 100,
   "metadata": {},
   "outputs": [],
   "source": [
    "# Gradiente descendente\n",
    "def gd(x: np.ndarray, y: np.ndarray, alpha: float = 0.001, max_iterations: int = 100000, stopping_error: float = 1e-10):\n",
    "    # Importando features e saídas\n",
    "    X = x.copy()\n",
    "    Y = y.copy()\n",
    "\n",
    "    # Adicionando uma coluna de 1's para o termo independente\n",
    "    X = np.hstack((np.ones((X.shape[0], 1)), X))\n",
    "\n",
    "    # Inicializando os pesos\n",
    "    w_gd = np.zeros((X.shape[1], 1))\n",
    "    print(w_gd.shape)\n",
    "\n",
    "    # Taxa de aprendizado\n",
    "    # alpha = 0.00001\n",
    "\n",
    "    # Número máximo de iterações\n",
    "    # max_iterations = 100000\n",
    "\n",
    "    errors_list_gd = np.empty((max_iterations, X.shape[0]))\n",
    "    mse_list_gd = np.empty((max_iterations, X.shape[0]))\n",
    "\n",
    "    # Gradiente descendente\n",
    "    for iter in range(max_iterations):\n",
    "\n",
    "        # Calculando e registrando o erro\n",
    "        pred_gd = X @ w_gd\n",
    "        error_gd = Y - pred_gd\n",
    "        \n",
    "        w_gd[0] = w_gd[0] + alpha * error_gd.mean(axis = 0)\n",
    "        w_gd[1:] = w_gd[1:] + alpha * (X[:,[1]].T @ error_gd) / X.shape[0]\n",
    "\n",
    "        # Calculando e registrando o MSE e os Erros\n",
    "        errors_list_gd[[iter], :] = error_gd.reshape(1, -1)\n",
    "        mse_list_gd[iter] = mse_gd(X, w_gd, Y)\n",
    "\n",
    "        # Parar caso o erro esteja abaixo do mínimo aceitável\n",
    "        # if(mse < stopping_error):\n",
    "        #     print(f'GD encerrado precocemente pois os erros estão baixos o suficiente')\n",
    "        #     break\n",
    "    \n",
    "    return w_gd, mse_gd(X, w_gd, y), errors_list_gd, mse_list_gd"
   ]
  },
  {
   "cell_type": "code",
   "execution_count": 101,
   "metadata": {},
   "outputs": [
    {
     "data": {
      "text/plain": [
       "(30, 1)"
      ]
     },
     "execution_count": 101,
     "metadata": {},
     "output_type": "execute_result"
    }
   ],
   "source": [
    "x_artificial_data.shape"
   ]
  },
  {
   "cell_type": "code",
   "execution_count": 102,
   "metadata": {},
   "outputs": [
    {
     "data": {
      "text/plain": [
       "(30, 1)"
      ]
     },
     "execution_count": 102,
     "metadata": {},
     "output_type": "execute_result"
    }
   ],
   "source": [
    "y_artificial_data.shape"
   ]
  },
  {
   "cell_type": "code",
   "execution_count": 103,
   "metadata": {},
   "outputs": [
    {
     "name": "stdout",
     "output_type": "stream",
     "text": [
      "(2, 1)\n"
     ]
    }
   ],
   "source": [
    "w_artificial_data_gd, mse_artificial_data_gd, errors_list_gd, mse_list_gd = gd(x_artificial_data, y_artificial_data)"
   ]
  },
  {
   "cell_type": "code",
   "execution_count": 104,
   "metadata": {},
   "outputs": [
    {
     "data": {
      "text/plain": [
       "array([[0.06761792],\n",
       "       [1.57486517]])"
      ]
     },
     "execution_count": 104,
     "metadata": {},
     "output_type": "execute_result"
    }
   ],
   "source": [
    "w_artificial_data_gd"
   ]
  },
  {
   "cell_type": "code",
   "execution_count": 105,
   "metadata": {},
   "outputs": [
    {
     "data": {
      "text/plain": [
       "0.21340090132936987"
      ]
     },
     "execution_count": 105,
     "metadata": {},
     "output_type": "execute_result"
    }
   ],
   "source": [
    "mse_artificial_data_gd"
   ]
  },
  {
   "cell_type": "code",
   "execution_count": 106,
   "metadata": {},
   "outputs": [
    {
     "data": {
      "text/plain": [
       "(100000, 30)"
      ]
     },
     "execution_count": 106,
     "metadata": {},
     "output_type": "execute_result"
    }
   ],
   "source": [
    "mse_list_gd.shape"
   ]
  },
  {
   "cell_type": "code",
   "execution_count": 107,
   "metadata": {},
   "outputs": [
    {
     "data": {
      "image/png": "[encoded data removed]",
      "text/plain": [
       "<Figure size 640x480 with 1 Axes>"
      ]
     },
     "metadata": {},
     "output_type": "display_data"
    }
   ],
   "source": [
    "fig, ax = plt.subplots()\n",
    "\n",
    "x_range_gd = np.linspace(x_artificial_data.min(), x_artificial_data.max())\n",
    "y_range_gd = w_artificial_data_gd[0] + w_artificial_data_gd[1] * x_range_gd\n",
    "\n",
    "ax.set_title(\"Gradient Descendent Regression\")\n",
    "ax.set_ylabel(\"Y-Axis\")\n",
    "ax.set_xlabel(\"X-Axis\")\n",
    "\n",
    "ax.scatter(x_artificial_data, y_artificial_data, color='blue', marker='o', linestyle='')\n",
    "ax.plot(x_range_gd, y_range_gd, color='red')\n",
    "\n",
    "for i in range(len(x_artificial_data)):\n",
    "    ax.plot([x_artificial_data[i], x_artificial_data[i]], [y_artificial_data[i], w_artificial_data_gd[0] + w_artificial_data_gd[1] * x_artificial_data[i]], linewidth='0.3')\n",
    "\n",
    "plt.show()"
   ]
  }
 ],
 "metadata": {
  "kernelspec": {
   "display_name": "MachineLearning",
   "language": "python",
   "name": "python3"
  },
  "language_info": {
   "codemirror_mode": {
    "name": "ipython",
    "version": 3
   },
   "file_extension": ".py",
   "mimetype": "text/x-python",
   "name": "python",
   "nbconvert_exporter": "python",
   "pygments_lexer": "ipython3",
   "version": "3.10.10"
  },
  "orig_nbformat": 4
 },
 "nbformat": 4,
 "nbformat_minor": 2
}
